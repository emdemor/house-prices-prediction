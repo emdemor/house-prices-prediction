{
 "cells": [
  {
   "cell_type": "markdown",
   "metadata": {},
   "source": [
    "![title](source/title.png)\n",
    "<a id=\"toc\"></a>"
   ]
  },
  {
   "cell_type": "markdown",
   "metadata": {},
   "source": [
    "<div  style=\"margin-top: 9px; background-color: #efefef; padding-top:10px; padding-bottom:10px;margin-bottom: 9px;box-shadow: 5px 5px 5px 0px rgba(87, 87, 87, 0.2);\">\n",
    "    <center>\n",
    "        <h2>Table of Contents</h2>\n",
    "    </center>\n",
    "\n",
    "   \n",
    "<ol>\n",
    "    <li><a href=\"#01\" style=\"color: #37509b;\">Initialization</a></li>\n",
    "    <li><a href=\"#02\" style=\"color: #37509b;\">Dataset</a></li>\n",
    "    <li><a href=\"#03\" style=\"color: #37509b;\">Looking for Patterns</a></li>\n",
    "    <li><a href=\"#04\" style=\"color: #37509b;\">Moddeling</a></li>\n",
    "\n",
    "</ol>\n",
    "\n",
    "\n",
    "</div>"
   ]
  },
  {
   "cell_type": "markdown",
   "metadata": {},
   "source": [
    "<a id=\"01\" style=\"\n",
    "  background-color: #37509b;\n",
    "  border: none;\n",
    "  color: white;\n",
    "  padding: 2px 10px;\n",
    "  text-align: center;\n",
    "  text-decoration: none;\n",
    "  display: inline-block;\n",
    "  font-size: 10px;\" href=\"#toc\">TOC ↻</a>\n",
    "  \n",
    "  \n",
    "<div  style=\"margin-top: 9px; background-color: #efefef; padding-top:10px; padding-bottom:10px;margin-bottom: 9px;box-shadow: 5px 5px 5px 0px rgba(87, 87, 87, 0.2);\">\n",
    "        <center>\n",
    "            <h1>1. Initialization</h1>\n",
    "        </center>\n",
    "\n",
    "   \n",
    "   \n",
    "<ol type=\"i\">\n",
    "<!--     <li><a href=\"#0101\" style=\"color: #37509b;\">Inicialização</a></li>\n",
    "    <li><a href=\"#0102\" style=\"color: #37509b;\">Pacotes</a></li>\n",
    "    <li><a href=\"#0103\" style=\"color: #37509b;\">Funcoes</a></li>\n",
    "    <li><a href=\"#0104\" style=\"color: #37509b;\">Dados de Indicadores Sociais</a></li>\n",
    "    <li><a href=\"#0105\" style=\"color: #37509b;\">Dados de COVID-19</a></li>\n",
    " -->\n",
    "</ol>\n",
    "\n",
    "\n",
    "\n",
    "</div>"
   ]
  },
  {
   "cell_type": "markdown",
   "metadata": {},
   "source": [
    "\n",
    "<a id=\"0101\"></a>\n",
    "<h2>1.1 Description <a href=\"#01\"\n",
    "style=\"\n",
    "    border-radius: 10px;\n",
    "    background-color: #f1f1f1;\n",
    "    border: none;\n",
    "    color: #37509b;\n",
    "    text-align: center;\n",
    "    text-decoration: none;\n",
    "    display: inline-block;\n",
    "    padding: 4px 4px;\n",
    "    font-size: 14px;\n",
    "\">↻</a></h2>"
   ]
  },
  {
   "cell_type": "markdown",
   "metadata": {},
   "source": [
    "Start here if...\n",
    "\n",
    "You have some experience with R or Python and machine learning basics. This is a perfect competition for data science students who have completed an online course in machine learning and are looking to expand their skill set before trying a featured competition. \n",
    "\n",
    "\n",
    "**Competition Description**\n",
    "\n",
    "\n",
    "Ask a home buyer to describe their dream house, and they probably won't begin with the height of the basement ceiling or the proximity to an east-west railroad. But this playground competition's dataset proves that much more influences price negotiations than the number of bedrooms or a white-picket fence.\n",
    "\n",
    "![image](https://storage.googleapis.com/kaggle-competitions/kaggle/5407/media/housesbanner.png)\n",
    "With 79 explanatory variables describing (almost) every aspect of residential homes in Ames, Iowa, this competition challenges you to predict the final price of each home.\n",
    "\n",
    "Practice Skills\n",
    "Creative feature engineering \n",
    "Advanced regression techniques like random forest and gradient boosting\n",
    "Acknowledgments\n",
    "The Ames Housing dataset was compiled by Dean De Cock for use in data science education. It's an incredible alternative for data scientists looking for a modernized and expanded version of the often cited Boston Housing dataset. "
   ]
  },
  {
   "cell_type": "markdown",
   "metadata": {},
   "source": [
    "<a id=\"0102\"></a>\n",
    "<h2>1.2 Packages and Modules <a href=\"#01\"\n",
    "style=\"\n",
    "    border-radius: 10px;\n",
    "    background-color: #f1f1f1;\n",
    "    border: none;\n",
    "    color: #37509b;\n",
    "    text-align: center;\n",
    "    text-decoration: none;\n",
    "    display: inline-block;\n",
    "    padding: 4px 4px;\n",
    "    font-size: 14px;\n",
    "\">↻</a></h2>"
   ]
  },
  {
   "cell_type": "code",
   "execution_count": 2,
   "metadata": {},
   "outputs": [],
   "source": [
    "import pandas as pd\n",
    "import numpy as np\n",
    "import seaborn as sns\n",
    "from scipy.stats import randint\n",
    "from numpy.random import uniform\n",
    "\n",
    "from sklearn.linear_model import Ridge ,                \\\n",
    "                                 LinearRegression,      \\\n",
    "                                 Lasso   \n",
    "\n",
    "from sklearn.metrics import mean_squared_log_error,     \\\n",
    "                            mean_absolute_error,        \\\n",
    "                            r2_score\n",
    "\n",
    "from sklearn.model_selection import RandomizedSearchCV, \\\n",
    "                                    KFold\n",
    "from sklearn.pipeline import Pipeline\n",
    "# from sklearn.preprocessing import MinMaxScaler\n",
    "\n",
    "#!pip install xtlearn\n",
    "from xtlearn.feature_selection import *\n",
    "from xtlearn.preprocessing import *"
   ]
  },
  {
   "cell_type": "markdown",
   "metadata": {},
   "source": [
    "<a id=\"0103\"></a>\n",
    "<h2>1.3 Settings <a href=\"#01\"\n",
    "style=\"\n",
    "    border-radius: 10px;\n",
    "    background-color: #f1f1f1;\n",
    "    border: none;\n",
    "    color: #37509b;\n",
    "    text-align: center;\n",
    "    text-decoration: none;\n",
    "    display: inline-block;\n",
    "    padding: 4px 4px;\n",
    "    font-size: 14px;\n",
    "\">↻</a></h2>"
   ]
  },
  {
   "cell_type": "code",
   "execution_count": 3,
   "metadata": {},
   "outputs": [],
   "source": [
    "sns.set(style=\"darkgrid\")"
   ]
  },
  {
   "cell_type": "markdown",
   "metadata": {},
   "source": [
    "<a id=\"02\" style=\"\n",
    "  background-color: #37509b;\n",
    "  border: none;\n",
    "  color: white;\n",
    "  padding: 2px 10px;\n",
    "  text-align: center;\n",
    "  text-decoration: none;\n",
    "  display: inline-block;\n",
    "  font-size: 10px;\" href=\"#toc\">TOC ↻</a>\n",
    "  \n",
    "  \n",
    "<div  style=\"margin-top: 9px; background-color: #efefef; padding-top:10px; padding-bottom:10px;margin-bottom: 9px;box-shadow: 5px 5px 5px 0px rgba(87, 87, 87, 0.2);\">\n",
    "        <center>\n",
    "            <h1>2. Dataset</h1>\n",
    "        </center>\n",
    "\n",
    "   \n",
    "   \n",
    "<ol type=\"i\">\n",
    "<!--     <li><a href=\"#0101\" style=\"color: #37509b;\">Inicialização</a></li>\n",
    "    <li><a href=\"#0102\" style=\"color: #37509b;\">Pacotes</a></li>\n",
    "    <li><a href=\"#0103\" style=\"color: #37509b;\">Funcoes</a></li>\n",
    "    <li><a href=\"#0104\" style=\"color: #37509b;\">Dados de Indicadores Sociais</a></li>\n",
    "    <li><a href=\"#0105\" style=\"color: #37509b;\">Dados de COVID-19</a></li>\n",
    " -->\n",
    "</ol>\n",
    "\n",
    "\n",
    "\n",
    "</div>"
   ]
  },
  {
   "cell_type": "markdown",
   "metadata": {},
   "source": [
    "\n",
    "<a id=\"0201\"></a>\n",
    "<h2>1.1 Import dataset <a href=\"#02\"\n",
    "style=\"\n",
    "    border-radius: 10px;\n",
    "    background-color: #f1f1f1;\n",
    "    border: none;\n",
    "    color: #37509b;\n",
    "    text-align: center;\n",
    "    text-decoration: none;\n",
    "    display: inline-block;\n",
    "    padding: 4px 4px;\n",
    "    font-size: 14px;\n",
    "\">↻</a></h2>"
   ]
  },
  {
   "cell_type": "markdown",
   "metadata": {},
   "source": [
    "I want to work with Pipelines. However, It will not be possible to use the pipelines to every step of my approach. When this occurs, I'll redefine the dataframes. To make the work easier, I will define a function to reset the initial dataframes every time I need"
   ]
  },
  {
   "cell_type": "code",
   "execution_count": 4,
   "metadata": {},
   "outputs": [],
   "source": [
    "train = pd.read_csv('data/train.csv')\n",
    "test = pd.read_csv('data/test.csv')\n",
    "\n",
    "def reset_datasets(dic_subs = {'1stFlrSF':'FirstFlrSF','2ndFlrSF':'SecFlrSF'}):\n",
    "    \n",
    "    # defining global variables\n",
    "    global df_trn,df_tst,X_trn,X_tst,y_trn,y_tst,train_size,test_size,full_size, df_full,X,y\n",
    "    \n",
    "    # deleting old datasets\n",
    "    try:\n",
    "        del df_trn,df_tst,X_trn,X_tst,y_trn,y_tst\n",
    "    except:\n",
    "        pass\n",
    "    \n",
    "    # get the training and test datasets \n",
    "    df_trn = train.copy()\n",
    "    X_tst = test.drop(columns=['Id']).copy()\n",
    "\n",
    "    # splitting features and target\n",
    "    X_trn = df_trn.drop(columns=['Id','SalePrice'])\n",
    "    y_trn = df_trn['SalePrice']\n",
    "    \n",
    "    # Renaming columns with naming starting by numbers\n",
    "    X_trn = X_trn.rename(columns = dic_subs)\n",
    "    X_tst = X_tst.rename(columns = dic_subs)\n",
    "    \n",
    "    # evaluating dataset lengths\n",
    "    train_size = len(train)\n",
    "    test_size  = len(test)\n",
    "    full_size  = train_size + test_size\n",
    "    \n",
    "    # concatenating test and training datasets\n",
    "    df_full = pd.concat([train,test]).set_index('Id').rename(columns = dic_subs)\n",
    "    \n",
    "    # splitting features and target of the full dataset\n",
    "    X = df_full.drop(columns = ['SalePrice'])\n",
    "    y = df_full['SalePrice']\n",
    "    \n",
    "    X = X.rename(columns = dic_subs)\n",
    "\n",
    "reset_datasets()"
   ]
  },
  {
   "cell_type": "markdown",
   "metadata": {},
   "source": [
    "### Test Sale Price (Only for Tests)"
   ]
  },
  {
   "cell_type": "code",
   "execution_count": 5,
   "metadata": {},
   "outputs": [],
   "source": [
    "df_tst_true = pd.read_csv('data/TestSalePrice.csv')"
   ]
  },
  {
   "cell_type": "markdown",
   "metadata": {},
   "source": [
    "\n",
    "<a id=\"0202\"></a>\n",
    "<h2>2.2 Useful Classes and Functions <a href=\"#02\"\n",
    "style=\"\n",
    "    border-radius: 10px;\n",
    "    background-color: #f1f1f1;\n",
    "    border: none;\n",
    "    color: #37509b;\n",
    "    text-align: center;\n",
    "    text-decoration: none;\n",
    "    display: inline-block;\n",
    "    padding: 4px 4px;\n",
    "    font-size: 14px;\n",
    "\">↻</a></h2>"
   ]
  },
  {
   "cell_type": "code",
   "execution_count": 6,
   "metadata": {},
   "outputs": [],
   "source": [
    "class SalePriceTransformer(BaseEstimator,TransformerMixin):\n",
    "    '''\n",
    "    Description\n",
    "    ----------\n",
    "    This class will transform the target data.\n",
    "   \n",
    "    Arguments\n",
    "    ----------\n",
    "    target_name: string, default='SalePrice'\n",
    "        The name of the target column \n",
    "        \n",
    "    active: boolean\n",
    "        This parameter controls if the selection will occour. This is useful in hyperparameters searchs to test the contribution\n",
    "        of selection in the final score\n",
    "    '''\n",
    "    \n",
    "    def __init__(self,active=True,target_name = 'SalePrice'):\n",
    "        self.target_name = target_name\n",
    "        self.active = active\n",
    "        \n",
    "    def fit(self,y):\n",
    "        self.log_ymin = np.log10(y.min())\n",
    "        self.log_ymax = np.log10(y.max())\n",
    "        return self\n",
    "        \n",
    "    def transform(self,y):\n",
    "        if not self.active:\n",
    "            return y\n",
    "        else:\n",
    "            return self.__transformation(y)\n",
    "        \n",
    "    def __transformation(self,y_in):\n",
    "        y = y_in.copy()\n",
    "        log_y = np.log10(y)\n",
    "        return log_y\n",
    "    \n",
    "    def inverse_transform(self,y):\n",
    "        if not self.active:\n",
    "            return y\n",
    "        else:\n",
    "            return self.__inv_transformation(y)\n",
    "        \n",
    "    def __inv_transformation(self,log_y_in):\n",
    "        \n",
    "        log_y = log_y_in.copy()\n",
    "        \n",
    "        y = 10**(log_y)\n",
    "        \n",
    "        return y.astype(int)\n",
    "        "
   ]
  },
  {
   "cell_type": "markdown",
   "metadata": {},
   "source": [
    "<a id=\"03\" style=\"\n",
    "  background-color: #37509b;\n",
    "  border: none;\n",
    "  color: white;\n",
    "  padding: 2px 10px;\n",
    "  text-align: center;\n",
    "  text-decoration: none;\n",
    "  display: inline-block;\n",
    "  font-size: 10px;\" href=\"#toc\">TOC ↻</a>\n",
    "  \n",
    "  \n",
    "<div  style=\"margin-top: 9px; background-color: #efefef; padding-top:10px; padding-bottom:10px;margin-bottom: 9px;box-shadow: 5px 5px 5px 0px rgba(87, 87, 87, 0.2);\">\n",
    "        <center>\n",
    "            <h1>3. Looking for Patterns</h1>\n",
    "        </center>\n",
    "\n",
    "   \n",
    "   \n",
    "<ol type=\"i\">\n",
    "<!--     <li><a href=\"#0101\" style=\"color: #37509b;\">Inicialização</a></li>\n",
    "    <li><a href=\"#0102\" style=\"color: #37509b;\">Pacotes</a></li>\n",
    "    <li><a href=\"#0103\" style=\"color: #37509b;\">Funcoes</a></li>\n",
    "    <li><a href=\"#0104\" style=\"color: #37509b;\">Dados de Indicadores Sociais</a></li>\n",
    "    <li><a href=\"#0105\" style=\"color: #37509b;\">Dados de COVID-19</a></li>\n",
    " -->\n",
    "</ol>\n",
    "\n",
    "\n",
    "\n",
    "</div>"
   ]
  },
  {
   "cell_type": "code",
   "execution_count": 7,
   "metadata": {},
   "outputs": [],
   "source": [
    "import matplotlib.pyplot as plt\n",
    "reset_datasets()\n",
    "raw_proc = Pipeline(steps = [\n",
    "    ('DropMissing',DropMissingDataColumns()),\n",
    "    ('Encoding',Encoder(drop_first=True)),\n",
    "])\n",
    "\n",
    "raw_proc.fit(X_trn,y_trn)\n",
    "\n",
    "y_transf = SalePriceTransformer().fit(y_trn)\n",
    "\n",
    "X = raw_proc.transform(X)\n",
    "X_trn_pp = X.iloc[:train_size]\n",
    "X_tst_pp = X.iloc[train_size:full_size]\n",
    "y_trn = y_transf.transform(y_trn)\n",
    "\n",
    "df_corr = pd.concat(\n",
    "    [X_trn_pp.reset_index(drop=True),y_trn],\n",
    "    axis = 1).corr().abs().sort_values(by= 'SalePrice',ascending=False)                                                                      \n",
    "imp_features = df_corr[df_corr['SalePrice'] > 0.3]['SalePrice'].index.to_list()\n",
    "# imp_features.remove('SalePrice')\n",
    "\n",
    "df_plot = pd.concat(\n",
    "    [X_trn_pp.reset_index(drop=True),y_trn],\n",
    "    axis = 1)[imp_features]"
   ]
  },
  {
   "cell_type": "code",
   "execution_count": 8,
   "metadata": {},
   "outputs": [
    {
     "data": {
      "text/html": [
       "<div>\n",
       "<style scoped>\n",
       "    .dataframe tbody tr th:only-of-type {\n",
       "        vertical-align: middle;\n",
       "    }\n",
       "\n",
       "    .dataframe tbody tr th {\n",
       "        vertical-align: top;\n",
       "    }\n",
       "\n",
       "    .dataframe thead th {\n",
       "        text-align: right;\n",
       "    }\n",
       "</style>\n",
       "<table border=\"1\" class=\"dataframe\">\n",
       "  <thead>\n",
       "    <tr style=\"text-align: right;\">\n",
       "      <th></th>\n",
       "      <th>SalePrice</th>\n",
       "    </tr>\n",
       "  </thead>\n",
       "  <tbody>\n",
       "    <tr>\n",
       "      <th>SalePrice</th>\n",
       "      <td>1.000000</td>\n",
       "    </tr>\n",
       "    <tr>\n",
       "      <th>OverallQual</th>\n",
       "      <td>0.817184</td>\n",
       "    </tr>\n",
       "    <tr>\n",
       "      <th>GrLivArea</th>\n",
       "      <td>0.700927</td>\n",
       "    </tr>\n",
       "    <tr>\n",
       "      <th>FirstFlrSF</th>\n",
       "      <td>0.596981</td>\n",
       "    </tr>\n",
       "    <tr>\n",
       "      <th>ExterQual_TA</th>\n",
       "      <td>0.595881</td>\n",
       "    </tr>\n",
       "    <tr>\n",
       "      <th>FullBath</th>\n",
       "      <td>0.594771</td>\n",
       "    </tr>\n",
       "    <tr>\n",
       "      <th>YearBuilt</th>\n",
       "      <td>0.586570</td>\n",
       "    </tr>\n",
       "    <tr>\n",
       "      <th>YearRemodAdd</th>\n",
       "      <td>0.565608</td>\n",
       "    </tr>\n",
       "    <tr>\n",
       "      <th>TotRmsAbvGrd</th>\n",
       "      <td>0.534422</td>\n",
       "    </tr>\n",
       "    <tr>\n",
       "      <th>Foundation_PConc</th>\n",
       "      <td>0.530840</td>\n",
       "    </tr>\n",
       "  </tbody>\n",
       "</table>\n",
       "</div>"
      ],
      "text/plain": [
       "                  SalePrice\n",
       "SalePrice          1.000000\n",
       "OverallQual        0.817184\n",
       "GrLivArea          0.700927\n",
       "FirstFlrSF         0.596981\n",
       "ExterQual_TA       0.595881\n",
       "FullBath           0.594771\n",
       "YearBuilt          0.586570\n",
       "YearRemodAdd       0.565608\n",
       "TotRmsAbvGrd       0.534422\n",
       "Foundation_PConc   0.530840"
      ]
     },
     "execution_count": 8,
     "metadata": {},
     "output_type": "execute_result"
    }
   ],
   "source": [
    "df_corr[['SalePrice']].head(10)"
   ]
  },
  {
   "cell_type": "markdown",
   "metadata": {},
   "source": [
    "### OverallQual"
   ]
  },
  {
   "cell_type": "code",
   "execution_count": 9,
   "metadata": {},
   "outputs": [
    {
     "data": {
      "text/plain": [
       "<matplotlib.collections.PathCollection at 0x7fb5d0b507d0>"
      ]
     },
     "execution_count": 9,
     "metadata": {},
     "output_type": "execute_result"
    },
    {
     "data": {
      "image/png": "[encoded data removed]",
      "text/plain": [
       "<Figure size 432x288 with 1 Axes>"
      ]
     },
     "metadata": {},
     "output_type": "display_data"
    }
   ],
   "source": [
    "plt.scatter(df_plot['OverallQual'], df_plot['SalePrice'],  c=\"g\",  s=14,   label=\"Luck\")"
   ]
  },
  {
   "cell_type": "markdown",
   "metadata": {},
   "source": [
    "### GrLivArea"
   ]
  },
  {
   "cell_type": "code",
   "execution_count": 10,
   "metadata": {},
   "outputs": [
    {
     "data": {
      "text/plain": [
       "0.7302548511982284"
      ]
     },
     "execution_count": 10,
     "metadata": {},
     "output_type": "execute_result"
    },
    {
     "data": {
      "image/png": "[encoded data removed]",
      "text/plain": [
       "<Figure size 432x288 with 1 Axes>"
      ]
     },
     "metadata": {},
     "output_type": "display_data"
    }
   ],
   "source": [
    "# fa = FeatureApply( destination = 'GrLivArea', apply = '(<GrLivArea>)')\n",
    "fa = FeatureApply( destination = 'GrLivArea', apply = '(np.log(<GrLivArea>))')\n",
    "# df_plot = fa.transform(df_plot)\n",
    "plt.scatter(fa.transform(df_plot)['GrLivArea'], df_plot['SalePrice'],  c=\"g\",  s=14,   label=\"Luck\")\n",
    "fa.transform(df_plot)[['GrLivArea','SalePrice']].corr()['SalePrice']['GrLivArea']"
   ]
  },
  {
   "cell_type": "markdown",
   "metadata": {},
   "source": [
    "### YearBuilt"
   ]
  },
  {
   "cell_type": "code",
   "execution_count": 11,
   "metadata": {},
   "outputs": [
    {
     "data": {
      "text/plain": [
       "0.6330459314516366"
      ]
     },
     "execution_count": 11,
     "metadata": {},
     "output_type": "execute_result"
    },
    {
     "data": {
      "image/png": "[encoded data removed]",
      "text/plain": [
       "<Figure size 432x288 with 1 Axes>"
      ]
     },
     "metadata": {},
     "output_type": "display_data"
    }
   ],
   "source": [
    "# fa = FeatureApply( destination = 'YearBuilt', apply = '<YearBuilt>')\n",
    "fa = FeatureApply( destination = 'YearBuilt', apply = '10**14*np.log1p(<YearBuilt>/1980)**90')\n",
    "plt.scatter(fa.transform(df_plot)['YearBuilt'], df_plot['SalePrice'],  c=\"g\",  s=14,   label=\"Luck\")\n",
    "\n",
    "fa.transform(df_plot)[['YearBuilt','SalePrice']].corr()['SalePrice']['YearBuilt']"
   ]
  },
  {
   "cell_type": "markdown",
   "metadata": {},
   "source": [
    "<a id=\"04\" style=\"\n",
    "  background-color: #37509b;\n",
    "  border: none;\n",
    "  color: white;\n",
    "  padding: 2px 10px;\n",
    "  text-align: center;\n",
    "  text-decoration: none;\n",
    "  display: inline-block;\n",
    "  font-size: 10px;\" href=\"#toc\">TOC ↻</a>\n",
    "  \n",
    "  \n",
    "<div  style=\"margin-top: 9px; background-color: #efefef; padding-top:10px; padding-bottom:10px;margin-bottom: 9px;box-shadow: 5px 5px 5px 0px rgba(87, 87, 87, 0.2);\">\n",
    "        <center>\n",
    "            <h1>4. Modelling</h1>\n",
    "        </center>\n",
    "\n",
    "   \n",
    "   \n",
    "<ol type=\"i\">\n",
    "<!--     <li><a href=\"#0101\" style=\"color: #37509b;\">Inicialização</a></li>\n",
    "    <li><a href=\"#0102\" style=\"color: #37509b;\">Pacotes</a></li>\n",
    "    <li><a href=\"#0103\" style=\"color: #37509b;\">Funcoes</a></li>\n",
    "    <li><a href=\"#0104\" style=\"color: #37509b;\">Dados de Indicadores Sociais</a></li>\n",
    "    <li><a href=\"#0105\" style=\"color: #37509b;\">Dados de COVID-19</a></li>\n",
    " -->\n",
    "</ol>\n",
    "\n",
    "\n",
    "\n",
    "</div>"
   ]
  },
  {
   "cell_type": "markdown",
   "metadata": {},
   "source": [
    "\n",
    "<a id=\"0401\"></a>\n",
    "<h2>4.1 Preprocessing <a href=\"#04\"\n",
    "style=\"\n",
    "    border-radius: 10px;\n",
    "    background-color: #f1f1f1;\n",
    "    border: none;\n",
    "    color: #37509b;\n",
    "    text-align: center;\n",
    "    text-decoration: none;\n",
    "    display: inline-block;\n",
    "    padding: 4px 4px;\n",
    "    font-size: 14px;\n",
    "\">↻</a></h2>"
   ]
  },
  {
   "cell_type": "markdown",
   "metadata": {},
   "source": [
    "My first innocent approach is:\n",
    "* to drop columns with more than 6% of missing data\n",
    "* in categorical features, replace NaN value by the mode\n",
    "* in numerical features, replace NaN values by the mean\n",
    "* feature transformation in 'GrLivArea' and 'YearBuilt' the makes the correlation with 'SalePrice' greater.\n",
    "* encode categorical features dropping one column to avoid the dummy variable trap\n",
    "* scale the features between 0 and 1"
   ]
  },
  {
   "cell_type": "code",
   "execution_count": 8,
   "metadata": {},
   "outputs": [],
   "source": [
    "preproc = Pipeline(steps = [\n",
    "    ('DropMissing',DropMissingDataColumns(max_missing = 0.06)),\n",
    "    ('Imputer', MeanModeImputer()),\n",
    "    ('apGrLivArea',FeatureApply( destination = 'GrLivArea', apply = '(np.log(<GrLivArea>)/7.1)')),\n",
    "    ('apYearBuilt',FeatureApply( destination = 'YearBuilt', apply = '10**14*np.log1p(<YearBuilt>/1980)**90')),\n",
    "    ('Encoding',Encoder()),\n",
    "    ('Scaler' , ScalerDF()), ])\n",
    "\n",
    "reset_datasets()\n",
    "\n",
    "target_proc = SalePriceTransformer().fit(y_trn)\n",
    "y_trn = target_proc.transform(y_trn)\n",
    "y_tst_true = target_proc.transform(df_tst_true['SalePrice'])\n",
    "\n",
    "preproc.fit(X,y)\n",
    "X = preproc.transform(X)\n",
    "X_trn = X.iloc[:train_size]\n",
    "X_tst = X.iloc[train_size:full_size]"
   ]
  },
  {
   "cell_type": "markdown",
   "metadata": {},
   "source": [
    "\n",
    "<a id=\"0402\"></a>\n",
    "<h2>4.2 Regression Approach <a href=\"#04\"\n",
    "style=\"\n",
    "    border-radius: 10px;\n",
    "    background-color: #f1f1f1;\n",
    "    border: none;\n",
    "    color: #37509b;\n",
    "    text-align: center;\n",
    "    text-decoration: none;\n",
    "    display: inline-block;\n",
    "    padding: 4px 4px;\n",
    "    font-size: 14px;\n",
    "\">↻</a></h2>"
   ]
  },
  {
   "cell_type": "code",
   "execution_count": 9,
   "metadata": {},
   "outputs": [],
   "source": [
    "def Regression_Search(X,y,\n",
    "               Regressor,\n",
    "               param_distributions,\n",
    "               n_iter = 50, scoring = 'neg_mean_squared_log_error',\n",
    "               n_splits = 10, seed = 42,\n",
    "              ):\n",
    "\n",
    "    X_trn_pp = X\n",
    "    y_trn = y\n",
    "    \n",
    "    search_cv = RandomizedSearchCV(\n",
    "         Regressor, \n",
    "         param_distributions,\n",
    "         n_iter = n_iter,\n",
    "         scoring = scoring,\n",
    "         cv = KFold(n_splits = n_splits, shuffle = True,random_state = seed))\n",
    "    \n",
    "    search_cv.fit(X_trn_pp, y_trn)\n",
    "    scv_cols = ['params','mean_test_score','std_test_score']\n",
    "    results = pd.DataFrame(search_cv.cv_results_).sort_values('rank_test_score')[scv_cols]\n",
    "    \n",
    "    estimator = search_cv.best_estimator_\n",
    "    estimator.fit(X_trn_pp,y_trn)\n",
    "    \n",
    "    y_pred = target_proc.inverse_transform(estimator.predict(X_trn_pp))\n",
    "    print('r2_score_trn = %.4f'  % r2_score(target_proc.inverse_transform(y_trn),y_pred))\n",
    "    print('RMSLE_trn = %.4f' % mean_squared_log_error(target_proc.inverse_transform(y_trn),y_pred)**0.5)\n",
    "    \n",
    "    return estimator,pd.DataFrame(search_cv.cv_results_).sort_values('rank_test_score')"
   ]
  },
  {
   "cell_type": "markdown",
   "metadata": {},
   "source": [
    "## 4.2.1 Linear_Regression"
   ]
  },
  {
   "cell_type": "code",
   "execution_count": 10,
   "metadata": {},
   "outputs": [
    {
     "name": "stdout",
     "output_type": "stream",
     "text": [
      "r2_score_trn = 0.9310\n",
      "RMSLE_trn = 0.1188\n"
     ]
    }
   ],
   "source": [
    "est, res = Regression_Search(\n",
    "    X_trn,y_trn,\n",
    "    Regressor = LinearRegression(),\n",
    "    param_distributions = {\n",
    "        'fit_intercept' : (True,False),\n",
    "    },\n",
    "    n_iter = 10,\n",
    "    n_splits = 3,\n",
    "    scoring = 'r2')"
   ]
  },
  {
   "cell_type": "code",
   "execution_count": 11,
   "metadata": {},
   "outputs": [
    {
     "name": "stdout",
     "output_type": "stream",
     "text": [
      "r2_score_tst = 0.5548\n"
     ]
    }
   ],
   "source": [
    "from sklearn.metrics import mean_squared_error\n",
    "y_pred = target_proc.inverse_transform(est.predict(X_tst))\n",
    "y_true = target_proc.inverse_transform(np.array(y_tst_true))\n",
    "\n",
    "print('r2_score_tst = %.4f'  % r2_score(y_true,y_pred))"
   ]
  },
  {
   "cell_type": "markdown",
   "metadata": {},
   "source": [
    "## 4.2.2 Ridge"
   ]
  },
  {
   "cell_type": "code",
   "execution_count": 12,
   "metadata": {},
   "outputs": [
    {
     "name": "stdout",
     "output_type": "stream",
     "text": [
      "r2_score_trn = 0.9195\n",
      "RMSLE_trn = 0.1065\n"
     ]
    }
   ],
   "source": [
    "est,res = Regression_Search(\n",
    "    X_trn,y_trn,\n",
    "    Regressor = Ridge(random_state=42),\n",
    "    param_distributions = {\n",
    "        'alpha' : 10**uniform(-1,1,200),\n",
    "        'solver': ('auto', 'svd', 'cholesky', 'lsqr', 'sparse_cg', 'sag', 'saga'),\n",
    "        'tol'   : 10**uniform(-5,-1,200),},\n",
    "    n_iter = 100,\n",
    "    n_splits = 2,\n",
    "    scoring = 'neg_mean_squared_log_error')"
   ]
  },
  {
   "cell_type": "code",
   "execution_count": 13,
   "metadata": {},
   "outputs": [
    {
     "name": "stdout",
     "output_type": "stream",
     "text": [
      "r2_score_tst = 0.9035\n",
      "RMSLE_tst = 0.1344\n"
     ]
    }
   ],
   "source": [
    "y_pred = target_proc.inverse_transform(est.predict(X_tst))\n",
    "y_true = target_proc.inverse_transform(np.array(y_tst_true))\n",
    "\n",
    "print('r2_score_tst = %.4f'  % r2_score(y_true,y_pred))\n",
    "print('RMSLE_tst = %.4f' % mean_squared_log_error(y_true,y_pred)**0.5)\n",
    "    \n",
    "pass_id = test['Id']\n",
    "sub = pd.Series(y_pred,index=pass_id,name='SalePrice')\n",
    "sub.to_csv('data/model_10.csv',header=True)"
   ]
  },
  {
   "cell_type": "markdown",
   "metadata": {},
   "source": [
    "## 4.2.3 Stochastic Gradient Descent - SGDRegressor"
   ]
  },
  {
   "cell_type": "code",
   "execution_count": 15,
   "metadata": {},
   "outputs": [
    {
     "name": "stdout",
     "output_type": "stream",
     "text": [
      "r2_score_trn = 0.8310\n",
      "RMSLE_trn = 0.1154\n"
     ]
    }
   ],
   "source": [
    "from sklearn.linear_model import SGDRegressor\n",
    "est,res = Regression_Search(\n",
    "    X_trn,y_trn,\n",
    "    Regressor = SGDRegressor(shuffle = False,loss = 'huber'),\n",
    "    param_distributions = {\n",
    "        'alpha'   : 10**uniform(np.log10(0.00005),np.log10(0.0015),200),\n",
    "        'epsilon' : 10**uniform(np.log10(0.05),np.log10(0.15),200),\n",
    "        'tol'     : 10**uniform(-195,-90,200),\n",
    "        'l1_ratio': uniform(0,1,200),\n",
    "        'learning_rate': ['optimal','adaptive'],},\n",
    "    n_iter = 100,\n",
    "    n_splits = 2,\n",
    "    scoring = 'neg_mean_squared_log_error')"
   ]
  },
  {
   "cell_type": "code",
   "execution_count": 16,
   "metadata": {},
   "outputs": [
    {
     "name": "stdout",
     "output_type": "stream",
     "text": [
      "r2_score_tst = 0.8768\n",
      "RMSLE_tst = 0.1303\n"
     ]
    }
   ],
   "source": [
    "y_pred = target_proc.inverse_transform(est.predict(X_tst))\n",
    "y_true = target_proc.inverse_transform(np.array(y_tst_true))\n",
    "\n",
    "print('r2_score_tst = %.4f'  % r2_score(y_true,y_pred))\n",
    "print('RMSLE_tst = %.4f' % mean_squared_log_error(y_true,y_pred)**0.5)\n",
    "    \n",
    "pass_id = test['Id']\n",
    "sub = pd.Series(y_pred,index=pass_id,name='SalePrice')\n",
    "sub.to_csv('data/model_10.csv',header=True)"
   ]
  },
  {
   "cell_type": "markdown",
   "metadata": {},
   "source": [
    "## HuberRegression"
   ]
  },
  {
   "cell_type": "code",
   "execution_count": 25,
   "metadata": {},
   "outputs": [
    {
     "name": "stdout",
     "output_type": "stream",
     "text": [
      "r2_score_trn = 0.8988\n",
      "RMSLE_trn = 0.1294\n"
     ]
    }
   ],
   "source": [
    "from sklearn.linear_model import HuberRegressor\n",
    "\n",
    "est,res = Regression_Search(\n",
    "    X_trn,y_trn,\n",
    "    Regressor = HuberRegressor(),\n",
    "    param_distributions = {\n",
    "        'alpha'   : 10**uniform(-6,-2,200),\n",
    "        'epsilon' : uniform(1.0001,1.7,200),\n",
    "        'max_iter'     : list(map(lambda x: int(round(x)),10**uniform(1,3,200))),\n",
    "    },\n",
    "    n_iter = 20,\n",
    "    n_splits = 2,\n",
    "    scoring = 'neg_mean_squared_log_error')"
   ]
  },
  {
   "cell_type": "code",
   "execution_count": 18,
   "metadata": {},
   "outputs": [
    {
     "name": "stdout",
     "output_type": "stream",
     "text": [
      "r2_score_tst = 0.7717\n",
      "RMSLE_tst = 0.1439\n"
     ]
    }
   ],
   "source": [
    "y_pred = target_proc.inverse_transform(est.predict(X_tst))\n",
    "y_true = target_proc.inverse_transform(np.array(y_tst_true))\n",
    "\n",
    "print('r2_score_tst = %.4f'  % r2_score(y_true,y_pred))\n",
    "print('RMSLE_tst = %.4f' % mean_squared_log_error(y_true,y_pred)**0.5)\n",
    "    \n",
    "pass_id = test['Id']\n",
    "sub = pd.Series(y_pred,index=pass_id,name='SalePrice')\n",
    "sub.to_csv('data/model_10.csv',header=True)"
   ]
  },
  {
   "cell_type": "code",
   "execution_count": 26,
   "metadata": {},
   "outputs": [
    {
     "data": {
      "text/html": [
       "<div>\n",
       "<style scoped>\n",
       "    .dataframe tbody tr th:only-of-type {\n",
       "        vertical-align: middle;\n",
       "    }\n",
       "\n",
       "    .dataframe tbody tr th {\n",
       "        vertical-align: top;\n",
       "    }\n",
       "\n",
       "    .dataframe thead th {\n",
       "        text-align: right;\n",
       "    }\n",
       "</style>\n",
       "<table border=\"1\" class=\"dataframe\">\n",
       "  <thead>\n",
       "    <tr style=\"text-align: right;\">\n",
       "      <th></th>\n",
       "      <th>mean_fit_time</th>\n",
       "      <th>std_fit_time</th>\n",
       "      <th>mean_score_time</th>\n",
       "      <th>std_score_time</th>\n",
       "      <th>param_max_iter</th>\n",
       "      <th>param_epsilon</th>\n",
       "      <th>param_alpha</th>\n",
       "      <th>params</th>\n",
       "      <th>split0_test_score</th>\n",
       "      <th>split1_test_score</th>\n",
       "      <th>mean_test_score</th>\n",
       "      <th>std_test_score</th>\n",
       "      <th>rank_test_score</th>\n",
       "    </tr>\n",
       "  </thead>\n",
       "  <tbody>\n",
       "    <tr>\n",
       "      <th>5</th>\n",
       "      <td>0.471183</td>\n",
       "      <td>0.005527</td>\n",
       "      <td>0.006802</td>\n",
       "      <td>0.000017</td>\n",
       "      <td>276</td>\n",
       "      <td>1.55062</td>\n",
       "      <td>6.3375e-05</td>\n",
       "      <td>{'max_iter': 276, 'epsilon': 1.550622371368091...</td>\n",
       "      <td>-0.000234</td>\n",
       "      <td>-0.000272</td>\n",
       "      <td>-0.000253</td>\n",
       "      <td>0.000019</td>\n",
       "      <td>1</td>\n",
       "    </tr>\n",
       "    <tr>\n",
       "      <th>14</th>\n",
       "      <td>0.979240</td>\n",
       "      <td>0.002809</td>\n",
       "      <td>0.006949</td>\n",
       "      <td>0.000082</td>\n",
       "      <td>635</td>\n",
       "      <td>1.14165</td>\n",
       "      <td>0.000259667</td>\n",
       "      <td>{'max_iter': 635, 'epsilon': 1.141650812664176...</td>\n",
       "      <td>-0.000217</td>\n",
       "      <td>-0.000294</td>\n",
       "      <td>-0.000255</td>\n",
       "      <td>0.000038</td>\n",
       "      <td>2</td>\n",
       "    </tr>\n",
       "    <tr>\n",
       "      <th>0</th>\n",
       "      <td>0.284689</td>\n",
       "      <td>0.063065</td>\n",
       "      <td>0.006823</td>\n",
       "      <td>0.000021</td>\n",
       "      <td>137</td>\n",
       "      <td>1.54899</td>\n",
       "      <td>1.38639e-06</td>\n",
       "      <td>{'max_iter': 137, 'epsilon': 1.548988864716147...</td>\n",
       "      <td>-0.000284</td>\n",
       "      <td>-0.000231</td>\n",
       "      <td>-0.000258</td>\n",
       "      <td>0.000026</td>\n",
       "      <td>3</td>\n",
       "    </tr>\n",
       "    <tr>\n",
       "      <th>10</th>\n",
       "      <td>0.518818</td>\n",
       "      <td>0.015778</td>\n",
       "      <td>0.006922</td>\n",
       "      <td>0.000006</td>\n",
       "      <td>383</td>\n",
       "      <td>1.02959</td>\n",
       "      <td>4.27156e-06</td>\n",
       "      <td>{'max_iter': 383, 'epsilon': 1.029591097592927...</td>\n",
       "      <td>-0.000291</td>\n",
       "      <td>-0.000235</td>\n",
       "      <td>-0.000263</td>\n",
       "      <td>0.000028</td>\n",
       "      <td>4</td>\n",
       "    </tr>\n",
       "    <tr>\n",
       "      <th>18</th>\n",
       "      <td>0.424673</td>\n",
       "      <td>0.022850</td>\n",
       "      <td>0.006847</td>\n",
       "      <td>0.000056</td>\n",
       "      <td>245</td>\n",
       "      <td>1.53072</td>\n",
       "      <td>2.71964e-05</td>\n",
       "      <td>{'max_iter': 245, 'epsilon': 1.530718545528894...</td>\n",
       "      <td>-0.000273</td>\n",
       "      <td>-0.000263</td>\n",
       "      <td>-0.000268</td>\n",
       "      <td>0.000005</td>\n",
       "      <td>5</td>\n",
       "    </tr>\n",
       "  </tbody>\n",
       "</table>\n",
       "</div>"
      ],
      "text/plain": [
       "    mean_fit_time  std_fit_time  mean_score_time  std_score_time  \\\n",
       "5        0.471183      0.005527         0.006802        0.000017   \n",
       "14       0.979240      0.002809         0.006949        0.000082   \n",
       "0        0.284689      0.063065         0.006823        0.000021   \n",
       "10       0.518818      0.015778         0.006922        0.000006   \n",
       "18       0.424673      0.022850         0.006847        0.000056   \n",
       "\n",
       "   param_max_iter param_epsilon  param_alpha  \\\n",
       "5             276       1.55062   6.3375e-05   \n",
       "14            635       1.14165  0.000259667   \n",
       "0             137       1.54899  1.38639e-06   \n",
       "10            383       1.02959  4.27156e-06   \n",
       "18            245       1.53072  2.71964e-05   \n",
       "\n",
       "                                               params  split0_test_score  \\\n",
       "5   {'max_iter': 276, 'epsilon': 1.550622371368091...          -0.000234   \n",
       "14  {'max_iter': 635, 'epsilon': 1.141650812664176...          -0.000217   \n",
       "0   {'max_iter': 137, 'epsilon': 1.548988864716147...          -0.000284   \n",
       "10  {'max_iter': 383, 'epsilon': 1.029591097592927...          -0.000291   \n",
       "18  {'max_iter': 245, 'epsilon': 1.530718545528894...          -0.000273   \n",
       "\n",
       "    split1_test_score  mean_test_score  std_test_score  rank_test_score  \n",
       "5           -0.000272        -0.000253        0.000019                1  \n",
       "14          -0.000294        -0.000255        0.000038                2  \n",
       "0           -0.000231        -0.000258        0.000026                3  \n",
       "10          -0.000235        -0.000263        0.000028                4  \n",
       "18          -0.000263        -0.000268        0.000005                5  "
      ]
     },
     "execution_count": 26,
     "metadata": {},
     "output_type": "execute_result"
    }
   ],
   "source": [
    "res.head(5)"
   ]
  }
 ],
 "metadata": {
  "kernelspec": {
   "display_name": "Python 3",
   "language": "python",
   "name": "python3"
  },
  "language_info": {
   "codemirror_mode": {
    "name": "ipython",
    "version": 3
   },
   "file_extension": ".py",
   "mimetype": "text/x-python",
   "name": "python",
   "nbconvert_exporter": "python",
   "pygments_lexer": "ipython3",
   "version": "3.7.6"
  }
 },
 "nbformat": 4,
 "nbformat_minor": 4
}
