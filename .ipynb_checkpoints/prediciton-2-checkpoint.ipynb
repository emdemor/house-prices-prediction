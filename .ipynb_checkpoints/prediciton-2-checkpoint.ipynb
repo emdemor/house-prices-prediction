{
 "cells": [
  {
   "cell_type": "markdown",
   "metadata": {},
   "source": [
    "![title](source/title.png)\n",
    "<a id=\"toc\"></a>"
   ]
  },
  {
   "cell_type": "markdown",
   "metadata": {},
   "source": [
    "<div  style=\"margin-top: 9px; background-color: #efefef; padding-top:10px; padding-bottom:10px;margin-bottom: 9px;box-shadow: 5px 5px 5px 0px rgba(87, 87, 87, 0.2);\">\n",
    "    <center>\n",
    "        <h2>Table of Contents</h2>\n",
    "    </center>\n",
    "\n",
    "   \n",
    "<ol>\n",
    "    <li><a href=\"#01\" style=\"color: #37509b;\">Initialization</a></li>\n",
    "    <li><a href=\"#02\" style=\"color: #37509b;\">Dataset</a></li>\n",
    "    <li><a href=\"#03\" style=\"color: #37509b;\">Terceira Seção</a></li>\n",
    "    <li><a href=\"#04\" style=\"color: #37509b;\">Quarta Seção</a></li>\n",
    "    <li><a href=\"#05\" style=\"color: #37509b;\">Quinta Seção </a></li>\n",
    "\n",
    "</ol>\n",
    "\n",
    "\n",
    "</div>"
   ]
  },
  {
   "cell_type": "markdown",
   "metadata": {},
   "source": [
    "<a id=\"01\" style=\"\n",
    "  background-color: #37509b;\n",
    "  border: none;\n",
    "  color: white;\n",
    "  padding: 2px 10px;\n",
    "  text-align: center;\n",
    "  text-decoration: none;\n",
    "  display: inline-block;\n",
    "  font-size: 10px;\" href=\"#toc\">TOC ↻</a>\n",
    "  \n",
    "  \n",
    "<div  style=\"margin-top: 9px; background-color: #efefef; padding-top:10px; padding-bottom:10px;margin-bottom: 9px;box-shadow: 5px 5px 5px 0px rgba(87, 87, 87, 0.2);\">\n",
    "        <center>\n",
    "            <h1>1. Initialization</h1>\n",
    "        </center>\n",
    "\n",
    "   \n",
    "   \n",
    "<ol type=\"i\">\n",
    "<!--     <li><a href=\"#0101\" style=\"color: #37509b;\">Inicialização</a></li>\n",
    "    <li><a href=\"#0102\" style=\"color: #37509b;\">Pacotes</a></li>\n",
    "    <li><a href=\"#0103\" style=\"color: #37509b;\">Funcoes</a></li>\n",
    "    <li><a href=\"#0104\" style=\"color: #37509b;\">Dados de Indicadores Sociais</a></li>\n",
    "    <li><a href=\"#0105\" style=\"color: #37509b;\">Dados de COVID-19</a></li>\n",
    " -->\n",
    "</ol>\n",
    "\n",
    "\n",
    "\n",
    "</div>"
   ]
  },
  {
   "cell_type": "markdown",
   "metadata": {},
   "source": [
    "\n",
    "<a id=\"0101\"></a>\n",
    "<h2>1.1 Description <a href=\"#01\"\n",
    "style=\"\n",
    "    border-radius: 10px;\n",
    "    background-color: #f1f1f1;\n",
    "    border: none;\n",
    "    color: #37509b;\n",
    "    text-align: center;\n",
    "    text-decoration: none;\n",
    "    display: inline-block;\n",
    "    padding: 4px 4px;\n",
    "    font-size: 14px;\n",
    "\">↻</a></h2>"
   ]
  },
  {
   "cell_type": "markdown",
   "metadata": {},
   "source": [
    "Start here if...\n",
    "\n",
    "You have some experience with R or Python and machine learning basics. This is a perfect competition for data science students who have completed an online course in machine learning and are looking to expand their skill set before trying a featured competition. \n",
    "\n",
    "\n",
    "**Competition Description**\n",
    "\n",
    "\n",
    "Ask a home buyer to describe their dream house, and they probably won't begin with the height of the basement ceiling or the proximity to an east-west railroad. But this playground competition's dataset proves that much more influences price negotiations than the number of bedrooms or a white-picket fence.\n",
    "\n",
    "![image](https://storage.googleapis.com/kaggle-competitions/kaggle/5407/media/housesbanner.png)\n",
    "With 79 explanatory variables describing (almost) every aspect of residential homes in Ames, Iowa, this competition challenges you to predict the final price of each home.\n",
    "\n",
    "Practice Skills\n",
    "Creative feature engineering \n",
    "Advanced regression techniques like random forest and gradient boosting\n",
    "Acknowledgments\n",
    "The Ames Housing dataset was compiled by Dean De Cock for use in data science education. It's an incredible alternative for data scientists looking for a modernized and expanded version of the often cited Boston Housing dataset. "
   ]
  },
  {
   "cell_type": "markdown",
   "metadata": {},
   "source": [
    "<a id=\"0102\"></a>\n",
    "<h2>1.2 Packages and Modules <a href=\"#01\"\n",
    "style=\"\n",
    "    border-radius: 10px;\n",
    "    background-color: #f1f1f1;\n",
    "    border: none;\n",
    "    color: #37509b;\n",
    "    text-align: center;\n",
    "    text-decoration: none;\n",
    "    display: inline-block;\n",
    "    padding: 4px 4px;\n",
    "    font-size: 14px;\n",
    "\">↻</a></h2>"
   ]
  },
  {
   "cell_type": "code",
   "execution_count": 1,
   "metadata": {},
   "outputs": [],
   "source": [
    "import pandas as pd\n",
    "import numpy as np\n",
    "import seaborn as sns\n",
    "from scipy.stats import randint\n",
    "from numpy.random import uniform\n",
    "\n",
    "from sklearn.linear_model import Ridge ,                \\\n",
    "                                 LinearRegression,      \\\n",
    "                                 Lasso   \n",
    "\n",
    "from sklearn.metrics import mean_squared_log_error,     \\\n",
    "                            mean_absolute_error,        \\\n",
    "                            r2_score\n",
    "\n",
    "from sklearn.model_selection import RandomizedSearchCV, \\\n",
    "                                    KFold\n",
    "from sklearn.pipeline import Pipeline\n",
    "# from sklearn.preprocessing import MinMaxScaler\n",
    "\n",
    "\n",
    "from xtlearn.feature_selection import *\n",
    "from xtlearn.preprocessing import *"
   ]
  },
  {
   "cell_type": "markdown",
   "metadata": {},
   "source": [
    "<a id=\"0103\"></a>\n",
    "<h2>1.3 Settings <a href=\"#01\"\n",
    "style=\"\n",
    "    border-radius: 10px;\n",
    "    background-color: #f1f1f1;\n",
    "    border: none;\n",
    "    color: #37509b;\n",
    "    text-align: center;\n",
    "    text-decoration: none;\n",
    "    display: inline-block;\n",
    "    padding: 4px 4px;\n",
    "    font-size: 14px;\n",
    "\">↻</a></h2>"
   ]
  },
  {
   "cell_type": "code",
   "execution_count": 2,
   "metadata": {},
   "outputs": [],
   "source": [
    "sns.set(style=\"darkgrid\")"
   ]
  },
  {
   "cell_type": "markdown",
   "metadata": {},
   "source": [
    "<a id=\"02\" style=\"\n",
    "  background-color: #37509b;\n",
    "  border: none;\n",
    "  color: white;\n",
    "  padding: 2px 10px;\n",
    "  text-align: center;\n",
    "  text-decoration: none;\n",
    "  display: inline-block;\n",
    "  font-size: 10px;\" href=\"#toc\">TOC ↻</a>\n",
    "  \n",
    "  \n",
    "<div  style=\"margin-top: 9px; background-color: #efefef; padding-top:10px; padding-bottom:10px;margin-bottom: 9px;box-shadow: 5px 5px 5px 0px rgba(87, 87, 87, 0.2);\">\n",
    "        <center>\n",
    "            <h1>2. Dataset</h1>\n",
    "        </center>\n",
    "\n",
    "   \n",
    "   \n",
    "<ol type=\"i\">\n",
    "<!--     <li><a href=\"#0101\" style=\"color: #37509b;\">Inicialização</a></li>\n",
    "    <li><a href=\"#0102\" style=\"color: #37509b;\">Pacotes</a></li>\n",
    "    <li><a href=\"#0103\" style=\"color: #37509b;\">Funcoes</a></li>\n",
    "    <li><a href=\"#0104\" style=\"color: #37509b;\">Dados de Indicadores Sociais</a></li>\n",
    "    <li><a href=\"#0105\" style=\"color: #37509b;\">Dados de COVID-19</a></li>\n",
    " -->\n",
    "</ol>\n",
    "\n",
    "\n",
    "\n",
    "</div>"
   ]
  },
  {
   "cell_type": "markdown",
   "metadata": {},
   "source": [
    "\n",
    "<a id=\"0201\"></a>\n",
    "<h2>1.1 Import dataset <a href=\"#02\"\n",
    "style=\"\n",
    "    border-radius: 10px;\n",
    "    background-color: #f1f1f1;\n",
    "    border: none;\n",
    "    color: #37509b;\n",
    "    text-align: center;\n",
    "    text-decoration: none;\n",
    "    display: inline-block;\n",
    "    padding: 4px 4px;\n",
    "    font-size: 14px;\n",
    "\">↻</a></h2>"
   ]
  },
  {
   "cell_type": "markdown",
   "metadata": {},
   "source": [
    "I want to work with Pipelines. However, It will not be possible to use the pipelines to every step of my approach. When this occurs, I'll redefine the dataframes. To make the work easier, I will define a function to reset the initial dataframes every time I need"
   ]
  },
  {
   "cell_type": "code",
   "execution_count": 3,
   "metadata": {},
   "outputs": [],
   "source": [
    "train = pd.read_csv('data/train.csv')\n",
    "test = pd.read_csv('data/test.csv')\n",
    "\n",
    "def reset_datasets(dic_subs = {'1stFlrSF':'FirstFlrSF','2ndFlrSF':'SecFlrSF'}):\n",
    "    \n",
    "    # defining global variables\n",
    "    global df_trn,df_tst,X_trn,X_tst,y_trn,y_tst,train_size,test_size,full_size, df_full,X,y\n",
    "    \n",
    "    # deleting old datasets\n",
    "    try:\n",
    "        del df_trn,df_tst,X_trn,X_tst,y_trn,y_tst\n",
    "    except:\n",
    "        pass\n",
    "    \n",
    "    # get the training and test datasets \n",
    "    df_trn = train.copy()\n",
    "    X_tst = test.drop(columns=['Id']).copy()\n",
    "\n",
    "    # splitting features and target\n",
    "    X_trn = df_trn.drop(columns=['Id','SalePrice'])\n",
    "    y_trn = df_trn['SalePrice']\n",
    "    \n",
    "    # Renaming columns with naming starting by numbers\n",
    "    X_trn = X_trn.rename(columns = dic_subs)\n",
    "    X_tst = X_tst.rename(columns = dic_subs)\n",
    "    \n",
    "    # evaluating dataset lengths\n",
    "    train_size = len(train)\n",
    "    test_size  = len(test)\n",
    "    full_size  = train_size + test_size\n",
    "    \n",
    "    # concatenating test and training datasets\n",
    "    df_full = pd.concat([train,test]).set_index('Id').rename(columns = dic_subs)\n",
    "    \n",
    "    # splitting features and target of the full dataset\n",
    "    X = df_full.drop(columns = ['SalePrice'])\n",
    "    y = df_full['SalePrice']\n",
    "    \n",
    "    X = X.rename(columns = dic_subs)\n",
    "\n",
    "reset_datasets()"
   ]
  },
  {
   "cell_type": "markdown",
   "metadata": {},
   "source": [
    "### Test Sale Price (Only for Tests)"
   ]
  },
  {
   "cell_type": "code",
   "execution_count": 4,
   "metadata": {},
   "outputs": [],
   "source": [
    "df_tst_true = pd.read_csv('data/TestSalePrice.csv')"
   ]
  },
  {
   "cell_type": "markdown",
   "metadata": {},
   "source": [
    "\n",
    "<a id=\"0202\"></a>\n",
    "<h2>2.2 Useful Classes and Functions <a href=\"#02\"\n",
    "style=\"\n",
    "    border-radius: 10px;\n",
    "    background-color: #f1f1f1;\n",
    "    border: none;\n",
    "    color: #37509b;\n",
    "    text-align: center;\n",
    "    text-decoration: none;\n",
    "    display: inline-block;\n",
    "    padding: 4px 4px;\n",
    "    font-size: 14px;\n",
    "\">↻</a></h2>"
   ]
  },
  {
   "cell_type": "code",
   "execution_count": 116,
   "metadata": {},
   "outputs": [],
   "source": [
    "class SalePriceTransformer(BaseEstimator,TransformerMixin):\n",
    "    '''\n",
    "    Description\n",
    "    ----------\n",
    "    This class will transform the target data.\n",
    "   \n",
    "    Arguments\n",
    "    ----------\n",
    "    target_name: string, default='SalePrice'\n",
    "        The name of the target column \n",
    "        \n",
    "    active: boolean\n",
    "        This parameter controls if the selection will occour. This is useful in hyperparameters searchs to test the contribution\n",
    "        of selection in the final score\n",
    "    '''\n",
    "    \n",
    "    def __init__(self,active=True,target_name = 'SalePrice'):\n",
    "        self.target_name = target_name\n",
    "        self.active = active\n",
    "        \n",
    "    def fit(self,y):\n",
    "        self.log_ymin = np.log10(y.min())\n",
    "        self.log_ymax = np.log10(y.max())\n",
    "        return self\n",
    "        \n",
    "    def transform(self,y):\n",
    "        if not self.active:\n",
    "            return y\n",
    "        else:\n",
    "            return self.__transformation(y)\n",
    "        \n",
    "    def __transformation(self,y_in):\n",
    "        y = y_in.copy()\n",
    "        log_y = np.log10(y)\n",
    "        return log_y\n",
    "    \n",
    "    def inverse_transform(self,y):\n",
    "        if not self.active:\n",
    "            return y\n",
    "        else:\n",
    "            return self.__inv_transformation(y)\n",
    "        \n",
    "    def __inv_transformation(self,log_y_in):\n",
    "        \n",
    "        log_y = log_y_in.copy()\n",
    "        \n",
    "        y = 10**(log_y)\n",
    "        \n",
    "        return y.astype(int)\n",
    "        "
   ]
  },
  {
   "cell_type": "markdown",
   "metadata": {},
   "source": [
    "<a id=\"04\" style=\"\n",
    "  background-color: #37509b;\n",
    "  border: none;\n",
    "  color: white;\n",
    "  padding: 2px 10px;\n",
    "  text-align: center;\n",
    "  text-decoration: none;\n",
    "  display: inline-block;\n",
    "  font-size: 10px;\" href=\"#toc\">TOC ↻</a>\n",
    "  \n",
    "  \n",
    "<div  style=\"margin-top: 9px; background-color: #efefef; padding-top:10px; padding-bottom:10px;margin-bottom: 9px;box-shadow: 5px 5px 5px 0px rgba(87, 87, 87, 0.2);\">\n",
    "        <center>\n",
    "            <h1>4. Modelling</h1>\n",
    "        </center>\n",
    "\n",
    "   \n",
    "   \n",
    "<ol type=\"i\">\n",
    "<!--     <li><a href=\"#0101\" style=\"color: #37509b;\">Inicialização</a></li>\n",
    "    <li><a href=\"#0102\" style=\"color: #37509b;\">Pacotes</a></li>\n",
    "    <li><a href=\"#0103\" style=\"color: #37509b;\">Funcoes</a></li>\n",
    "    <li><a href=\"#0104\" style=\"color: #37509b;\">Dados de Indicadores Sociais</a></li>\n",
    "    <li><a href=\"#0105\" style=\"color: #37509b;\">Dados de COVID-19</a></li>\n",
    " -->\n",
    "</ol>\n",
    "\n",
    "\n",
    "\n",
    "</div>"
   ]
  },
  {
   "cell_type": "markdown",
   "metadata": {},
   "source": [
    "\n",
    "<a id=\"0401\"></a>\n",
    "<h2>4.1 Preprocessing <a href=\"#04\"\n",
    "style=\"\n",
    "    border-radius: 10px;\n",
    "    background-color: #f1f1f1;\n",
    "    border: none;\n",
    "    color: #37509b;\n",
    "    text-align: center;\n",
    "    text-decoration: none;\n",
    "    display: inline-block;\n",
    "    padding: 4px 4px;\n",
    "    font-size: 14px;\n",
    "\">↻</a></h2>"
   ]
  },
  {
   "cell_type": "markdown",
   "metadata": {},
   "source": [
    "My first innocent approach is to drop columns with more than 20% of missing data, encode categorical features dropping one column to avoid the dummy variable trap, impute the NaN values with the columns mean and scale the features between 0 and 1"
   ]
  },
  {
   "cell_type": "code",
   "execution_count": 425,
   "metadata": {},
   "outputs": [],
   "source": [
    "preproc = Pipeline(steps = [\n",
    "    ('DropMissing',DropMissingDataColumns(max_missing = 0.06)),\n",
    "    ('Imputer', MeanModeImputer()),\n",
    "#     ('Encoding',EncoderDataframe()),\n",
    "    ('Encoding',Encoder()),\n",
    "    ('Scaler' , ScalerDF()),\n",
    "    \n",
    "])\n",
    "\n",
    "reset_datasets()\n",
    "\n",
    "target_proc = SalePriceTransformer().fit(y_trn)\n",
    "y_trn = target_proc.transform(y_trn)\n",
    "y_tst_true = target_proc.transform(df_tst_true['SalePrice'])\n",
    "\n",
    "# preproc.fit(X_trn)\n",
    "# X_trn = preproc.transform(X_trn)\n",
    "# X_tst = preproc.transform(X_tst)\n",
    "\n",
    "\n",
    "preproc.fit(X,y)\n",
    "X = preproc.transform(X)\n",
    "X_trn = X.iloc[:train_size]\n",
    "X_tst = X.iloc[train_size:full_size]\n",
    "\n",
    "from sklearn.decomposition import PCA\n",
    "\n",
    "pca = PCA(n_components = 0.999)\n",
    "pca.fit(X_trn)\n",
    "X_trn = pca.transform(X_trn)\n",
    "X_tst = pca.transform(X_tst)"
   ]
  },
  {
   "cell_type": "markdown",
   "metadata": {},
   "source": [
    "\n",
    "<a id=\"0402\"></a>\n",
    "<h2>4.2 Simple Regression Approach <a href=\"#04\"\n",
    "style=\"\n",
    "    border-radius: 10px;\n",
    "    background-color: #f1f1f1;\n",
    "    border: none;\n",
    "    color: #37509b;\n",
    "    text-align: center;\n",
    "    text-decoration: none;\n",
    "    display: inline-block;\n",
    "    padding: 4px 4px;\n",
    "    font-size: 14px;\n",
    "\">↻</a></h2>"
   ]
  },
  {
   "cell_type": "code",
   "execution_count": 426,
   "metadata": {},
   "outputs": [],
   "source": [
    "def Regression_Search(X,y,\n",
    "               Regressor,\n",
    "               param_distributions,\n",
    "               n_iter = 50, scoring = 'neg_mean_squared_log_error',\n",
    "               n_splits = 10, seed = 42,\n",
    "              ):\n",
    "\n",
    "    X_trn_pp = X\n",
    "    y_trn = y\n",
    "    \n",
    "    search_cv = RandomizedSearchCV(\n",
    "         Regressor, \n",
    "         param_distributions,\n",
    "         n_iter = n_iter,\n",
    "         scoring = scoring,\n",
    "         cv = KFold(n_splits = n_splits, shuffle = True,random_state = seed))\n",
    "    \n",
    "    search_cv.fit(X_trn_pp, y_trn)\n",
    "    scv_cols = ['params','mean_test_score','std_test_score']\n",
    "    results = pd.DataFrame(search_cv.cv_results_).sort_values('rank_test_score')[scv_cols]\n",
    "    \n",
    "    estimator = search_cv.best_estimator_\n",
    "    estimator.fit(X_trn_pp,y_trn)\n",
    "    \n",
    "    y_pred = target_proc.inverse_transform(estimator.predict(X_trn_pp))\n",
    "    print('r2_score_trn = %.4f'  % r2_score(target_proc.inverse_transform(y_trn),y_pred))\n",
    "    print('RMSLE_trn = %.4f' % mean_squared_log_error(target_proc.inverse_transform(y_trn),y_pred)**0.5)\n",
    "    \n",
    "    return estimator,pd.DataFrame(search_cv.cv_results_).sort_values('rank_test_score')"
   ]
  },
  {
   "cell_type": "markdown",
   "metadata": {},
   "source": [
    "## Linear_Regression"
   ]
  },
  {
   "cell_type": "code",
   "execution_count": 427,
   "metadata": {},
   "outputs": [
    {
     "name": "stdout",
     "output_type": "stream",
     "text": [
      "r2_score_trn = 0.9150\n",
      "RMSLE_trn = 0.1098\n"
     ]
    }
   ],
   "source": [
    "est, res = Regression_Search(\n",
    "    X_trn,y_trn,\n",
    "    Regressor = LinearRegression(),\n",
    "    param_distributions = {\n",
    "        'fit_intercept' : (True,False),\n",
    "    },\n",
    "    n_iter = 10,\n",
    "    n_splits = 3,\n",
    "    scoring = 'r2')"
   ]
  },
  {
   "cell_type": "code",
   "execution_count": 428,
   "metadata": {},
   "outputs": [
    {
     "name": "stdout",
     "output_type": "stream",
     "text": [
      "r2_score_tst = 0.8653\n"
     ]
    }
   ],
   "source": [
    "from sklearn.metrics import mean_squared_error\n",
    "y_pred = target_proc.inverse_transform(est.predict(X_tst))\n",
    "y_true = target_proc.inverse_transform(np.array(y_tst_true))\n",
    "\n",
    "print('r2_score_tst = %.4f'  % r2_score(y_true,y_pred))"
   ]
  },
  {
   "cell_type": "markdown",
   "metadata": {},
   "source": [
    "## Ridge"
   ]
  },
  {
   "cell_type": "code",
   "execution_count": 429,
   "metadata": {},
   "outputs": [
    {
     "name": "stdout",
     "output_type": "stream",
     "text": [
      "r2_score_trn = 0.8986\n",
      "RMSLE_trn = 0.1171\n"
     ]
    }
   ],
   "source": [
    "est, res = Regression_Search(\n",
    "    X_trn,y_trn,\n",
    "    Regressor = Ridge(random_state=42),\n",
    "    param_distributions = {\n",
    "        'alpha' : 10**uniform(-1,1,200),\n",
    "        'solver': ('auto', 'svd', 'cholesky', 'lsqr', 'sparse_cg', 'sag', 'saga'),\n",
    "        'tol'   : 10**uniform(-5,-1,200),},\n",
    "    n_iter = 10,\n",
    "    n_splits = 3,\n",
    "    scoring = 'neg_mean_squared_log_error')\n"
   ]
  },
  {
   "cell_type": "code",
   "execution_count": 430,
   "metadata": {},
   "outputs": [
    {
     "name": "stdout",
     "output_type": "stream",
     "text": [
      "r2_score_tst = 0.8896\n",
      "RMSLE_tst = 0.1401\n"
     ]
    }
   ],
   "source": [
    "y_pred = target_proc.inverse_transform(est.predict(X_tst))\n",
    "y_true = target_proc.inverse_transform(np.array(y_tst_true))\n",
    "\n",
    "print('r2_score_tst = %.4f'  % r2_score(y_true,y_pred))\n",
    "print('RMSLE_tst = %.4f' % mean_squared_log_error(y_true,y_pred)**0.5)\n",
    "    \n",
    "pass_id = test['Id']\n",
    "sub = pd.Series(y_pred,index=pass_id,name='SalePrice')\n",
    "sub.to_csv('data/model_10.csv',header=True)"
   ]
  },
  {
   "cell_type": "markdown",
   "metadata": {},
   "source": [
    "# Feature Engineering"
   ]
  },
  {
   "cell_type": "code",
   "execution_count": 432,
   "metadata": {},
   "outputs": [],
   "source": [
    "preproc = Pipeline(steps = [\n",
    "    ('DropMissing',DropMissingDataColumns(max_missing = 0.06)),\n",
    "    ('Imputer', MeanModeImputer()),\n",
    "    ('apGrLivArea',FeatureApply( destination = 'GrLivArea', apply = '(np.log(<GrLivArea>)/7.1)')),\n",
    "    ('apYearBuilt',FeatureApply( destination = 'YearBuilt', apply = '10**14*np.log1p(<YearBuilt>/1980)**90')),\n",
    "    ('Encoding',Encoder()),\n",
    "    ('Scaler' , ScalerDF()), ])\n",
    "\n",
    "reset_datasets()\n",
    "\n",
    "target_proc = SalePriceTransformer().fit(y_trn)\n",
    "y_trn = target_proc.transform(y_trn)\n",
    "y_tst_true = target_proc.transform(df_tst_true['SalePrice'])\n",
    "\n",
    "preproc.fit(X,y)\n",
    "X = preproc.transform(X)\n",
    "X_trn = X.iloc[:train_size]\n",
    "X_tst = X.iloc[train_size:full_size]"
   ]
  },
  {
   "cell_type": "markdown",
   "metadata": {},
   "source": [
    "## Ridge"
   ]
  },
  {
   "cell_type": "code",
   "execution_count": 438,
   "metadata": {},
   "outputs": [
    {
     "name": "stdout",
     "output_type": "stream",
     "text": [
      "r2_score_trn = 0.9198\n",
      "RMSLE_trn = 0.1064\n"
     ]
    }
   ],
   "source": [
    "est,res = Regression_Search(\n",
    "    X_trn,y_trn,\n",
    "    Regressor = Ridge(random_state=42),\n",
    "    param_distributions = {\n",
    "        'alpha' : 10**uniform(-1,1,200),\n",
    "        'solver': ('auto', 'svd', 'cholesky', 'lsqr', 'sparse_cg', 'sag', 'saga'),\n",
    "        'tol'   : 10**uniform(-5,-1,200),},\n",
    "    n_iter = 100,\n",
    "    n_splits = 2,\n",
    "    scoring = 'neg_mean_squared_log_error')"
   ]
  },
  {
   "cell_type": "code",
   "execution_count": 439,
   "metadata": {},
   "outputs": [
    {
     "name": "stdout",
     "output_type": "stream",
     "text": [
      "r2_score_tst = 0.9035\n",
      "RMSLE_tst = 0.1344\n"
     ]
    }
   ],
   "source": [
    "y_pred = y_transf.inverse_transform(est.predict(X_tst))\n",
    "y_true = y_transf.inverse_transform(np.array(y_tst_true))\n",
    "\n",
    "print('r2_score_tst = %.4f'  % r2_score(y_true,y_pred))\n",
    "print('RMSLE_tst = %.4f' % mean_squared_log_error(y_true,y_pred)**0.5)\n",
    "    \n",
    "pass_id = test['Id']\n",
    "sub = pd.Series(y_pred,index=pass_id,name='SalePrice')\n",
    "sub.to_csv('data/model_10.csv',header=True)"
   ]
  },
  {
   "cell_type": "markdown",
   "metadata": {},
   "source": [
    "## Stochastic Gradient Descent - SGDRegressor"
   ]
  },
  {
   "cell_type": "code",
   "execution_count": 440,
   "metadata": {},
   "outputs": [
    {
     "name": "stdout",
     "output_type": "stream",
     "text": [
      "r2_score_trn = 0.8498\n",
      "RMSLE_trn = 0.1127\n"
     ]
    }
   ],
   "source": [
    "from sklearn.linear_model import SGDRegressor\n",
    "est,res = Regression_Search(\n",
    "    X_trn,y_trn,\n",
    "    Regressor = SGDRegressor(shuffle = False,loss = 'huber'),\n",
    "    param_distributions = {\n",
    "        'alpha'   : 10**uniform(np.log10(0.00005),np.log10(0.0015),200),\n",
    "        'epsilon' : 10**uniform(np.log10(0.05),np.log10(0.15),200),\n",
    "        'tol'     : 10**uniform(-195,-90,200),\n",
    "        'l1_ratio': uniform(0,1,200),\n",
    "        'learning_rate': ['optimal','adaptive'],},\n",
    "    n_iter = 100,\n",
    "    n_splits = 2,\n",
    "    scoring = 'neg_mean_squared_log_error')"
   ]
  },
  {
   "cell_type": "code",
   "execution_count": 441,
   "metadata": {},
   "outputs": [
    {
     "name": "stdout",
     "output_type": "stream",
     "text": [
      "r2_score_tst = 0.8822\n",
      "RMSLE_tst = 0.1308\n"
     ]
    }
   ],
   "source": [
    "y_pred = y_transf.inverse_transform(est.predict(X_tst))\n",
    "y_true = y_transf.inverse_transform(np.array(y_tst_true))\n",
    "\n",
    "print('r2_score_tst = %.4f'  % r2_score(y_true,y_pred))\n",
    "print('RMSLE_tst = %.4f' % mean_squared_log_error(y_true,y_pred)**0.5)\n",
    "    \n",
    "pass_id = test['Id']\n",
    "sub = pd.Series(y_pred,index=pass_id,name='SalePrice')\n",
    "sub.to_csv('data/model_10.csv',header=True)"
   ]
  },
  {
   "cell_type": "markdown",
   "metadata": {},
   "source": [
    "# Looking for Patterns"
   ]
  },
  {
   "cell_type": "code",
   "execution_count": 262,
   "metadata": {},
   "outputs": [],
   "source": [
    "import matplotlib.pyplot as plt\n",
    "reset_datasets()\n",
    "raw_proc = Pipeline(steps = [\n",
    "    ('DropMissing',DropMissingDataColumns()),\n",
    "    ('Encoding',Encoder(drop_first=True)),\n",
    "])\n",
    "\n",
    "raw_proc.fit(X_trn,y_trn)\n",
    "\n",
    "y_transf = SalePriceTransformer().fit(y_trn)\n",
    "\n",
    "X = raw_proc.transform(X)\n",
    "X_trn_pp = X.iloc[:train_size]\n",
    "X_tst_pp = X.iloc[train_size:full_size]\n",
    "y_trn = y_transf.transform(y_trn)\n",
    "\n",
    "df_corr = pd.concat(\n",
    "    [X_trn_pp.reset_index(drop=True),y_trn],\n",
    "    axis = 1).corr().abs().sort_values(by= 'SalePrice',ascending=False)                                                                      \n",
    "imp_features = df_corr[df_corr['SalePrice'] > 0.3]['SalePrice'].index.to_list()\n",
    "# imp_features.remove('SalePrice')\n",
    "\n",
    "df_plot = pd.concat(\n",
    "    [X_trn_pp.reset_index(drop=True),y_trn],\n",
    "    axis = 1)[imp_features]"
   ]
  },
  {
   "cell_type": "code",
   "execution_count": 377,
   "metadata": {},
   "outputs": [
    {
     "data": {
      "text/html": [
       "<div>\n",
       "<style scoped>\n",
       "    .dataframe tbody tr th:only-of-type {\n",
       "        vertical-align: middle;\n",
       "    }\n",
       "\n",
       "    .dataframe tbody tr th {\n",
       "        vertical-align: top;\n",
       "    }\n",
       "\n",
       "    .dataframe thead th {\n",
       "        text-align: right;\n",
       "    }\n",
       "</style>\n",
       "<table border=\"1\" class=\"dataframe\">\n",
       "  <thead>\n",
       "    <tr style=\"text-align: right;\">\n",
       "      <th></th>\n",
       "      <th>SalePrice</th>\n",
       "    </tr>\n",
       "  </thead>\n",
       "  <tbody>\n",
       "    <tr>\n",
       "      <th>SalePrice</th>\n",
       "      <td>1.000000</td>\n",
       "    </tr>\n",
       "    <tr>\n",
       "      <th>OverallQual</th>\n",
       "      <td>0.817184</td>\n",
       "    </tr>\n",
       "    <tr>\n",
       "      <th>GrLivArea</th>\n",
       "      <td>0.700927</td>\n",
       "    </tr>\n",
       "    <tr>\n",
       "      <th>FirstFlrSF</th>\n",
       "      <td>0.596981</td>\n",
       "    </tr>\n",
       "    <tr>\n",
       "      <th>ExterQual_TA</th>\n",
       "      <td>0.595881</td>\n",
       "    </tr>\n",
       "    <tr>\n",
       "      <th>FullBath</th>\n",
       "      <td>0.594771</td>\n",
       "    </tr>\n",
       "    <tr>\n",
       "      <th>YearBuilt</th>\n",
       "      <td>0.586570</td>\n",
       "    </tr>\n",
       "    <tr>\n",
       "      <th>YearRemodAdd</th>\n",
       "      <td>0.565608</td>\n",
       "    </tr>\n",
       "    <tr>\n",
       "      <th>TotRmsAbvGrd</th>\n",
       "      <td>0.534422</td>\n",
       "    </tr>\n",
       "    <tr>\n",
       "      <th>Foundation_PConc</th>\n",
       "      <td>0.530840</td>\n",
       "    </tr>\n",
       "    <tr>\n",
       "      <th>ExterQual_Gd</th>\n",
       "      <td>0.509675</td>\n",
       "    </tr>\n",
       "    <tr>\n",
       "      <th>Fireplaces</th>\n",
       "      <td>0.489449</td>\n",
       "    </tr>\n",
       "    <tr>\n",
       "      <th>Neighborhood_NridgHt</th>\n",
       "      <td>0.351802</td>\n",
       "    </tr>\n",
       "    <tr>\n",
       "      <th>CentralAir_Y</th>\n",
       "      <td>0.351600</td>\n",
       "    </tr>\n",
       "    <tr>\n",
       "      <th>Foundation_CBlock</th>\n",
       "      <td>0.337815</td>\n",
       "    </tr>\n",
       "    <tr>\n",
       "      <th>HeatingQC_TA</th>\n",
       "      <td>0.335429</td>\n",
       "    </tr>\n",
       "    <tr>\n",
       "      <th>WoodDeckSF</th>\n",
       "      <td>0.334135</td>\n",
       "    </tr>\n",
       "    <tr>\n",
       "      <th>SaleCondition_Partial</th>\n",
       "      <td>0.324471</td>\n",
       "    </tr>\n",
       "    <tr>\n",
       "      <th>OpenPorchSF</th>\n",
       "      <td>0.321053</td>\n",
       "    </tr>\n",
       "    <tr>\n",
       "      <th>SecFlrSF</th>\n",
       "      <td>0.319300</td>\n",
       "    </tr>\n",
       "  </tbody>\n",
       "</table>\n",
       "</div>"
      ],
      "text/plain": [
       "                       SalePrice\n",
       "SalePrice               1.000000\n",
       "OverallQual             0.817184\n",
       "GrLivArea               0.700927\n",
       "FirstFlrSF              0.596981\n",
       "ExterQual_TA            0.595881\n",
       "FullBath                0.594771\n",
       "YearBuilt               0.586570\n",
       "YearRemodAdd            0.565608\n",
       "TotRmsAbvGrd            0.534422\n",
       "Foundation_PConc        0.530840\n",
       "ExterQual_Gd            0.509675\n",
       "Fireplaces              0.489449\n",
       "Neighborhood_NridgHt    0.351802\n",
       "CentralAir_Y            0.351600\n",
       "Foundation_CBlock       0.337815\n",
       "HeatingQC_TA            0.335429\n",
       "WoodDeckSF              0.334135\n",
       "SaleCondition_Partial   0.324471\n",
       "OpenPorchSF             0.321053\n",
       "SecFlrSF                0.319300"
      ]
     },
     "execution_count": 377,
     "metadata": {},
     "output_type": "execute_result"
    }
   ],
   "source": [
    "df_corr[['SalePrice']].head(20)"
   ]
  },
  {
   "cell_type": "markdown",
   "metadata": {},
   "source": [
    "### OverallQual"
   ]
  },
  {
   "cell_type": "code",
   "execution_count": 242,
   "metadata": {},
   "outputs": [
    {
     "data": {
      "text/plain": [
       "<matplotlib.collections.PathCollection at 0x7fca00aecc50>"
      ]
     },
     "execution_count": 242,
     "metadata": {},
     "output_type": "execute_result"
    },
    {
     "data": {
      "image/png": "[encoded data removed]",
      "text/plain": [
       "<Figure size 432x288 with 1 Axes>"
      ]
     },
     "metadata": {},
     "output_type": "display_data"
    }
   ],
   "source": [
    "plt.scatter(df_plot['OverallQual'], df_plot['SalePrice'],  c=\"g\",  s=14,   label=\"Luck\")"
   ]
  },
  {
   "cell_type": "markdown",
   "metadata": {},
   "source": [
    "### GrLivArea"
   ]
  },
  {
   "cell_type": "code",
   "execution_count": 378,
   "metadata": {},
   "outputs": [
    {
     "data": {
      "text/plain": [
       "0.7302548511982284"
      ]
     },
     "execution_count": 378,
     "metadata": {},
     "output_type": "execute_result"
    },
    {
     "data": {
      "image/png": "[encoded data removed]",
      "text/plain": [
       "<Figure size 432x288 with 1 Axes>"
      ]
     },
     "metadata": {},
     "output_type": "display_data"
    }
   ],
   "source": [
    "fa = FeatureApply( destination = 'GrLivArea', apply = '(np.log(<GrLivArea>))')\n",
    "# df_plot = fa.transform(df_plot)\n",
    "plt.scatter(fa.transform(df_plot)['GrLivArea'], df_plot['SalePrice'],  c=\"g\",  s=14,   label=\"Luck\")\n",
    "fa.transform(df_plot)[['GrLivArea','SalePrice']].corr()['SalePrice']['GrLivArea']"
   ]
  },
  {
   "cell_type": "markdown",
   "metadata": {},
   "source": [
    "### YearBuilt"
   ]
  },
  {
   "cell_type": "code",
   "execution_count": 371,
   "metadata": {},
   "outputs": [
    {
     "data": {
      "text/plain": [
       "0.6330459314516366"
      ]
     },
     "execution_count": 371,
     "metadata": {},
     "output_type": "execute_result"
    },
    {
     "data": {
      "image/png": "[encoded data removed]",
      "text/plain": [
       "<Figure size 432x288 with 1 Axes>"
      ]
     },
     "metadata": {},
     "output_type": "display_data"
    }
   ],
   "source": [
    "fa = FeatureApply( destination = 'YearBuilt', apply = '10**14*np.log1p(<YearBuilt>/1980)**90')\n",
    "# df_plot = fa.transform(df_plot)\n",
    "plt.scatter(fa.transform(df_plot)['YearBuilt'], df_plot['SalePrice'],  c=\"g\",  s=14,   label=\"Luck\")\n",
    "\n",
    "fa.transform(df_plot)[['YearBuilt','SalePrice']].corr()['SalePrice']['YearBuilt']"
   ]
  },
  {
   "cell_type": "markdown",
   "metadata": {},
   "source": [
    "### YearRemodAdd"
   ]
  },
  {
   "cell_type": "code",
   "execution_count": 402,
   "metadata": {},
   "outputs": [
    {
     "data": {
      "text/plain": [
       "0.5656078325911784"
      ]
     },
     "execution_count": 402,
     "metadata": {},
     "output_type": "execute_result"
    },
    {
     "data": {
      "image/png": "[encoded data removed]",
      "text/plain": [
       "<Figure size 432x288 with 1 Axes>"
      ]
     },
     "metadata": {},
     "output_type": "display_data"
    }
   ],
   "source": [
    "fa = FeatureApply( destination = 'YearRemodAdd', apply = '<YearRemodAdd>')\n",
    "# df_plot = fa.transform(df_plot)\n",
    "plt.scatter(fa.transform(df_plot)['YearRemodAdd'], df_plot['SalePrice'],  c=\"g\",  s=14,   label=\"Luck\")\n",
    "\n",
    "fa.transform(df_plot)[['YearRemodAdd','SalePrice']].corr()['SalePrice']['YearRemodAdd']"
   ]
  },
  {
   "cell_type": "markdown",
   "metadata": {},
   "source": [
    "### TotRmsAbvGrd"
   ]
  },
  {
   "cell_type": "code",
   "execution_count": 395,
   "metadata": {},
   "outputs": [
    {
     "data": {
      "text/plain": [
       "0.539260802980662"
      ]
     },
     "execution_count": 395,
     "metadata": {},
     "output_type": "execute_result"
    },
    {
     "data": {
      "image/png": "[encoded data removed]",
      "text/plain": [
       "<Figure size 432x288 with 1 Axes>"
      ]
     },
     "metadata": {},
     "output_type": "display_data"
    }
   ],
   "source": [
    "fa = FeatureApply( destination = 'TotRmsAbvGrd', apply = 'np.log(<TotRmsAbvGrd>)')\n",
    "# df_plot = fa.transform(df_plot)\n",
    "plt.scatter(fa.transform(df_plot)['TotRmsAbvGrd'], df_plot['SalePrice'],  c=\"g\",  s=14,   label=\"Luck\")\n",
    "\n",
    "fa.transform(df_plot)[['TotRmsAbvGrd','SalePrice']].corr()['SalePrice']['TotRmsAbvGrd']"
   ]
  },
  {
   "cell_type": "markdown",
   "metadata": {},
   "source": [
    "### Foundation_PConc"
   ]
  },
  {
   "cell_type": "code",
   "execution_count": 410,
   "metadata": {},
   "outputs": [
    {
     "data": {
      "text/plain": [
       "0.5308399984857226"
      ]
     },
     "execution_count": 410,
     "metadata": {},
     "output_type": "execute_result"
    },
    {
     "data": {
      "image/png": "[encoded data removed]",
      "text/plain": [
       "<Figure size 432x288 with 1 Axes>"
      ]
     },
     "metadata": {},
     "output_type": "display_data"
    }
   ],
   "source": [
    "fa = FeatureApply( destination = 'Foundation_PConc', apply = '<Foundation_PConc>')\n",
    "# df_plot = fa.transform(df_plot)\n",
    "plt.scatter(fa.transform(df_plot)['Foundation_PConc'], df_plot['SalePrice'],  c=\"g\",  s=14,   label=\"Luck\")\n",
    "\n",
    "fa.transform(df_plot)[['Foundation_PConc','SalePrice']].corr()['SalePrice']['Foundation_PConc']"
   ]
  },
  {
   "cell_type": "code",
   "execution_count": 343,
   "metadata": {},
   "outputs": [
    {
     "name": "stdout",
     "output_type": "stream",
     "text": [
      "corr:  0.60894665490363\n"
     ]
    },
    {
     "data": {
      "text/plain": [
       "<matplotlib.collections.PathCollection at 0x7fc9f9370790>"
      ]
     },
     "execution_count": 343,
     "metadata": {},
     "output_type": "execute_result"
    },
    {
     "data": {
      "image/png": "[encoded data removed]",
      "text/plain": [
       "<Figure size 432x288 with 1 Axes>"
      ]
     },
     "metadata": {},
     "output_type": "display_data"
    }
   ],
   "source": [
    "df_plot = df_plot.rename(columns = {'1stFlrSF':'FirstFlrSF'})\n",
    "fa = FeatureApply( destination = 'FirstFlrSF', apply = 'np.log(<FirstFlrSF>)')\n",
    "\n",
    "print('corr: ',fa.transform(df_plot)[['FirstFlrSF','SalePrice']].corr()['SalePrice']['FirstFlrSF'])\n",
    "plt.scatter(fa.transform(df_plot)['FirstFlrSF'], df_plot['SalePrice'],  c=\"g\",  s=14,   label=\"Luck\")"
   ]
  },
  {
   "cell_type": "code",
   "execution_count": 347,
   "metadata": {
    "scrolled": true
   },
   "outputs": [
    {
     "name": "stdout",
     "output_type": "stream",
     "text": [
      "corr:  0.6821309517648297\n"
     ]
    },
    {
     "data": {
      "text/plain": [
       "<matplotlib.collections.PathCollection at 0x7fc9f93366d0>"
      ]
     },
     "execution_count": 347,
     "metadata": {},
     "output_type": "execute_result"
    },
    {
     "data": {
      "image/png": "[encoded data removed]",
      "text/plain": [
       "<Figure size 432x288 with 1 Axes>"
      ]
     },
     "metadata": {},
     "output_type": "display_data"
    }
   ],
   "source": [
    "df_plot = df_plot.rename(columns = {'2ndFlrSF':'SecFlrSF'})\n",
    "\n",
    "fa = ReplaceValue(feature_name = 'SecFlrSF', value = 0,replace_by = np.nan)\n",
    "\n",
    "print('corr: ',fa.transform(df_plot)[['SecFlrSF','SalePrice']].corr()['SalePrice']['SecFlrSF'])\n",
    "\n",
    "plt.scatter(fa.transform(df_plot)['SecFlrSF'], df_plot['SalePrice'],  c=\"g\",  s=14,   label=\"Luck\")"
   ]
  },
  {
   "cell_type": "code",
   "execution_count": 448,
   "metadata": {},
   "outputs": [
    {
     "data": {
      "text/html": [
       "<div>\n",
       "<style scoped>\n",
       "    .dataframe tbody tr th:only-of-type {\n",
       "        vertical-align: middle;\n",
       "    }\n",
       "\n",
       "    .dataframe tbody tr th {\n",
       "        vertical-align: top;\n",
       "    }\n",
       "\n",
       "    .dataframe thead th {\n",
       "        text-align: right;\n",
       "    }\n",
       "</style>\n",
       "<table border=\"1\" class=\"dataframe\">\n",
       "  <thead>\n",
       "    <tr style=\"text-align: right;\">\n",
       "      <th></th>\n",
       "      <th>SalePrice</th>\n",
       "    </tr>\n",
       "  </thead>\n",
       "  <tbody>\n",
       "    <tr>\n",
       "      <th>SalePrice</th>\n",
       "      <td>1.000000</td>\n",
       "    </tr>\n",
       "    <tr>\n",
       "      <th>OverallQual</th>\n",
       "      <td>0.817184</td>\n",
       "    </tr>\n",
       "    <tr>\n",
       "      <th>GrLivArea</th>\n",
       "      <td>0.723757</td>\n",
       "    </tr>\n",
       "    <tr>\n",
       "      <th>YearBuilt</th>\n",
       "      <td>0.630870</td>\n",
       "    </tr>\n",
       "    <tr>\n",
       "      <th>FirstFlrSF</th>\n",
       "      <td>0.608947</td>\n",
       "    </tr>\n",
       "    <tr>\n",
       "      <th>ExterQual_TA</th>\n",
       "      <td>0.595881</td>\n",
       "    </tr>\n",
       "    <tr>\n",
       "      <th>FullBath</th>\n",
       "      <td>0.594771</td>\n",
       "    </tr>\n",
       "    <tr>\n",
       "      <th>YearRemodAdd</th>\n",
       "      <td>0.565608</td>\n",
       "    </tr>\n",
       "    <tr>\n",
       "      <th>TotRmsAbvGrd</th>\n",
       "      <td>0.534422</td>\n",
       "    </tr>\n",
       "    <tr>\n",
       "      <th>Foundation_PConc</th>\n",
       "      <td>0.530840</td>\n",
       "    </tr>\n",
       "    <tr>\n",
       "      <th>ExterQual_Gd</th>\n",
       "      <td>0.509675</td>\n",
       "    </tr>\n",
       "    <tr>\n",
       "      <th>Fireplaces</th>\n",
       "      <td>0.489449</td>\n",
       "    </tr>\n",
       "    <tr>\n",
       "      <th>Neighborhood_NridgHt</th>\n",
       "      <td>0.351802</td>\n",
       "    </tr>\n",
       "    <tr>\n",
       "      <th>CentralAir_Y</th>\n",
       "      <td>0.351600</td>\n",
       "    </tr>\n",
       "    <tr>\n",
       "      <th>Foundation_CBlock</th>\n",
       "      <td>0.337815</td>\n",
       "    </tr>\n",
       "    <tr>\n",
       "      <th>HeatingQC_TA</th>\n",
       "      <td>0.335429</td>\n",
       "    </tr>\n",
       "    <tr>\n",
       "      <th>WoodDeckSF</th>\n",
       "      <td>0.334135</td>\n",
       "    </tr>\n",
       "    <tr>\n",
       "      <th>SaleCondition_Partial</th>\n",
       "      <td>0.324471</td>\n",
       "    </tr>\n",
       "    <tr>\n",
       "      <th>OpenPorchSF</th>\n",
       "      <td>0.321053</td>\n",
       "    </tr>\n",
       "    <tr>\n",
       "      <th>2ndFlrSF</th>\n",
       "      <td>0.319300</td>\n",
       "    </tr>\n",
       "  </tbody>\n",
       "</table>\n",
       "</div>"
      ],
      "text/plain": [
       "                       SalePrice\n",
       "SalePrice               1.000000\n",
       "OverallQual             0.817184\n",
       "GrLivArea               0.723757\n",
       "YearBuilt               0.630870\n",
       "FirstFlrSF              0.608947\n",
       "ExterQual_TA            0.595881\n",
       "FullBath                0.594771\n",
       "YearRemodAdd            0.565608\n",
       "TotRmsAbvGrd            0.534422\n",
       "Foundation_PConc        0.530840\n",
       "ExterQual_Gd            0.509675\n",
       "Fireplaces              0.489449\n",
       "Neighborhood_NridgHt    0.351802\n",
       "CentralAir_Y            0.351600\n",
       "Foundation_CBlock       0.337815\n",
       "HeatingQC_TA            0.335429\n",
       "WoodDeckSF              0.334135\n",
       "SaleCondition_Partial   0.324471\n",
       "OpenPorchSF             0.321053\n",
       "2ndFlrSF                0.319300"
      ]
     },
     "execution_count": 448,
     "metadata": {},
     "output_type": "execute_result"
    }
   ],
   "source": [
    "df_corr[['SalePrice']].head(20)"
   ]
  },
  {
   "cell_type": "markdown",
   "metadata": {},
   "source": [
    "# teste"
   ]
  }
 ],
 "metadata": {
  "kernelspec": {
   "display_name": "Python 3",
   "language": "python",
   "name": "python3"
  },
  "language_info": {
   "codemirror_mode": {
    "name": "ipython",
    "version": 3
   },
   "file_extension": ".py",
   "mimetype": "text/x-python",
   "name": "python",
   "nbconvert_exporter": "python",
   "pygments_lexer": "ipython3",
   "version": "3.7.6"
  }
 },
 "nbformat": 4,
 "nbformat_minor": 4
}
