{
 "cells": [
  {
   "cell_type": "markdown",
   "metadata": {},
   "source": [
    "![title](source/title.png)\n",
    "<a id=\"toc\"></a>"
   ]
  },
  {
   "cell_type": "markdown",
   "metadata": {},
   "source": [
    "<div  style=\"margin-top: 9px; background-color: #efefef; padding-top:10px; padding-bottom:10px;margin-bottom: 9px;box-shadow: 5px 5px 5px 0px rgba(87, 87, 87, 0.2);\">\n",
    "    <center>\n",
    "        <h2>Table of Contents</h2>\n",
    "    </center>\n",
    "\n",
    "   \n",
    "<ol>\n",
    "    <li><a href=\"#01\" style=\"color: #37509b;\">Initialization</a></li>\n",
    "    <li><a href=\"#02\" style=\"color: #37509b;\">Dataset</a></li>\n",
    "    <li><a href=\"#03\" style=\"color: #37509b;\">Terceira Seção</a></li>\n",
    "    <li><a href=\"#04\" style=\"color: #37509b;\">Quarta Seção</a></li>\n",
    "    <li><a href=\"#05\" style=\"color: #37509b;\">Quinta Seção </a></li>\n",
    "\n",
    "</ol>\n",
    "\n",
    "\n",
    "</div>"
   ]
  },
  {
   "cell_type": "markdown",
   "metadata": {},
   "source": [
    "<a id=\"01\" style=\"\n",
    "  background-color: #37509b;\n",
    "  border: none;\n",
    "  color: white;\n",
    "  padding: 2px 10px;\n",
    "  text-align: center;\n",
    "  text-decoration: none;\n",
    "  display: inline-block;\n",
    "  font-size: 10px;\" href=\"#toc\">TOC ↻</a>\n",
    "  \n",
    "  \n",
    "<div  style=\"margin-top: 9px; background-color: #efefef; padding-top:10px; padding-bottom:10px;margin-bottom: 9px;box-shadow: 5px 5px 5px 0px rgba(87, 87, 87, 0.2);\">\n",
    "        <center>\n",
    "            <h1>1. Initialization</h1>\n",
    "        </center>\n",
    "\n",
    "   \n",
    "   \n",
    "<ol type=\"i\">\n",
    "<!--     <li><a href=\"#0101\" style=\"color: #37509b;\">Inicialização</a></li>\n",
    "    <li><a href=\"#0102\" style=\"color: #37509b;\">Pacotes</a></li>\n",
    "    <li><a href=\"#0103\" style=\"color: #37509b;\">Funcoes</a></li>\n",
    "    <li><a href=\"#0104\" style=\"color: #37509b;\">Dados de Indicadores Sociais</a></li>\n",
    "    <li><a href=\"#0105\" style=\"color: #37509b;\">Dados de COVID-19</a></li>\n",
    " -->\n",
    "</ol>\n",
    "\n",
    "\n",
    "\n",
    "</div>"
   ]
  },
  {
   "cell_type": "markdown",
   "metadata": {},
   "source": [
    "\n",
    "<a id=\"0101\"></a>\n",
    "<h2>1.1 Inicialização <a href=\"#01\"\n",
    "style=\"\n",
    "    border-radius: 10px;\n",
    "    background-color: #f1f1f1;\n",
    "    border: none;\n",
    "    color: #37509b;\n",
    "    text-align: center;\n",
    "    text-decoration: none;\n",
    "    display: inline-block;\n",
    "    padding: 4px 4px;\n",
    "    font-size: 14px;\n",
    "\">↻</a></h2>"
   ]
  },
  {
   "cell_type": "markdown",
   "metadata": {},
   "source": [
    "Dados retirados de:\n",
    "\n",
    "  <a href=\"https://data.worldbank.org/\" target=\"_blank\">https://data.worldbank.org/</a>\n",
    "  \n",
    "  <a href=\"http://www.demographia.com/db-worldua.pdf\" target=\"_blank\"> http://www.demographia.com/db-worldua.pdf</a>\n",
    "  \n",
    " "
   ]
  },
  {
   "cell_type": "markdown",
   "metadata": {},
   "source": [
    "<a id=\"0102\"></a>\n",
    "<h2>1.2 Packages <a href=\"#01\"\n",
    "style=\"\n",
    "    border-radius: 10px;\n",
    "    background-color: #f1f1f1;\n",
    "    border: none;\n",
    "    color: #37509b;\n",
    "    text-align: center;\n",
    "    text-decoration: none;\n",
    "    display: inline-block;\n",
    "    padding: 4px 4px;\n",
    "    font-size: 14px;\n",
    "\">↻</a></h2>"
   ]
  },
  {
   "cell_type": "code",
   "execution_count": 1,
   "metadata": {},
   "outputs": [],
   "source": [
    "import pandas as pd\n",
    "import numpy as np\n",
    "import seaborn as sns\n",
    "sns.set(style=\"darkgrid\")\n",
    "\n",
    "import matplotlib.pyplot as plt\n",
    "from tqdm import tqdm\n",
    "\n",
    "from sklearn.pipeline import Pipeline\n",
    "from sklearn.base import BaseEstimator,TransformerMixin\n",
    "from sklearn.pipeline import Pipeline\n",
    "from sklearn.linear_model import LinearRegression\n",
    "from sklearn.metrics import mean_absolute_error,r2_score\n",
    "from sklearn.preprocessing import StandardScaler\n",
    "\n",
    "from sklearn.tree import DecisionTreeRegressor\n",
    "from sklearn.model_selection import cross_validate,KFold,GridSearchCV\n",
    "from sklearn.model_selection import RandomizedSearchCV\n",
    "\n",
    "\n",
    "from sklearn.preprocessing import OrdinalEncoder,OneHotEncoder, LabelEncoder\n",
    "\n",
    "from sklearn.linear_model import Lasso\n",
    "from sklearn.preprocessing import MinMaxScaler,Normalizer\n",
    "from scipy.stats import randint\n",
    "from numpy.random import uniform\n",
    "import warnings\n",
    "\n",
    "\n",
    "warnings.filterwarnings(\"ignore\")\n",
    "scv_cols = ['params','mean_test_score','std_test_score']"
   ]
  },
  {
   "cell_type": "markdown",
   "metadata": {},
   "source": [
    "<a id=\"02\" style=\"\n",
    "  background-color: #37509b;\n",
    "  border: none;\n",
    "  color: white;\n",
    "  padding: 2px 10px;\n",
    "  text-align: center;\n",
    "  text-decoration: none;\n",
    "  display: inline-block;\n",
    "  font-size: 10px;\" href=\"#toc\">TOC ↻</a>\n",
    "  \n",
    "  \n",
    "<div  style=\"margin-top: 9px; background-color: #efefef; padding-top:10px; padding-bottom:10px;margin-bottom: 9px;box-shadow: 5px 5px 5px 0px rgba(87, 87, 87, 0.2);\">\n",
    "        <center>\n",
    "            <h1>2. Dataset</h1>\n",
    "        </center>\n",
    "\n",
    "   \n",
    "   \n",
    "<ol type=\"i\">\n",
    "<!--     <li><a href=\"#0101\" style=\"color: #37509b;\">Inicialização</a></li>\n",
    "    <li><a href=\"#0102\" style=\"color: #37509b;\">Pacotes</a></li>\n",
    "    <li><a href=\"#0103\" style=\"color: #37509b;\">Funcoes</a></li>\n",
    "    <li><a href=\"#0104\" style=\"color: #37509b;\">Dados de Indicadores Sociais</a></li>\n",
    "    <li><a href=\"#0105\" style=\"color: #37509b;\">Dados de COVID-19</a></li>\n",
    " -->\n",
    "</ol>\n",
    "\n",
    "\n",
    "\n",
    "</div>"
   ]
  },
  {
   "cell_type": "code",
   "execution_count": 21,
   "metadata": {},
   "outputs": [],
   "source": [
    "train = pd.read_csv('data/train.csv')\n",
    "test = pd.read_csv('data/test.csv')\n",
    "\n",
    "\n",
    "def reset_datasets():\n",
    "    global df_trn,df_tst,X_trn,X_tst,y_trn,y_tst,train_size,test_size,full_size, df_full,X,y\n",
    "    \n",
    "    try:\n",
    "        del df_trn,df_tst,X_trn,X_tst,y_trn,y_tst\n",
    "    except:\n",
    "        pass\n",
    "\n",
    "    df_trn = train.copy()\n",
    "    #df_trn['logSalePrice'] = np.log10(df_trn['SalePrice'])\n",
    "    #df_trn.drop(columns=['SalePrice'],inplace = True)\n",
    "\n",
    "    X_trn = df_trn.drop(columns=['Id','SalePrice'])\n",
    "    y_trn = df_trn['SalePrice']\n",
    "    \n",
    "    X_tst = test.drop(columns=['Id']).copy()\n",
    "    \n",
    "    train_size = len(train)\n",
    "    test_size  = len(test)\n",
    "    full_size  = train_size+test_size\n",
    "    \n",
    "    df_full = pd.concat([train,test]).set_index('Id')\n",
    "    \n",
    "    X = df_full.drop(columns = ['SalePrice'])\n",
    "    y = df_full['SalePrice']\n",
    "\n",
    "\n",
    "\n",
    "reset_datasets()"
   ]
  },
  {
   "cell_type": "markdown",
   "metadata": {},
   "source": [
    "## Test Sale Price (Just for Test)"
   ]
  },
  {
   "cell_type": "code",
   "execution_count": 3,
   "metadata": {},
   "outputs": [],
   "source": [
    "df_tst_true = pd.read_csv('data/TestSalePrice.csv')"
   ]
  },
  {
   "cell_type": "markdown",
   "metadata": {},
   "source": [
    "## Classes"
   ]
  },
  {
   "cell_type": "code",
   "execution_count": 14,
   "metadata": {},
   "outputs": [],
   "source": [
    "class DropMissingDataColumns(BaseEstimator,TransformerMixin):\n",
    "    \n",
    "    def __init__(self,active=True):\n",
    "        self.active = active\n",
    "        \n",
    "    def fit(self,X,y):\n",
    "        return self\n",
    "        \n",
    "    def transform(self,X):\n",
    "        if not self.active:\n",
    "            return X\n",
    "        else:\n",
    "            return self.__transformation(X)\n",
    "        \n",
    "    def __transformation(self,X_in):\n",
    "        X = X_in.copy()\n",
    "        missing_data = pd.DataFrame(X.isnull().sum().sort_values(ascending=False),columns = ['Missing'])\n",
    "        columns_with_missing_data = list(missing_data.query('Missing > 0').index)\n",
    "        X = X.drop(columns_with_missing_data,axis = 1)\n",
    "        return X"
   ]
  },
  {
   "cell_type": "code",
   "execution_count": 369,
   "metadata": {},
   "outputs": [],
   "source": [
    "class Encoder(BaseEstimator,TransformerMixin):\n",
    "    \n",
    "    def __init__(self,active=True,drop_first=True):\n",
    "        self.active = active\n",
    "        self.drop_first = drop_first\n",
    "        \n",
    "    def fit(self,X,y):\n",
    "        return self\n",
    "        \n",
    "    def transform(self,X):\n",
    "        if not self.active:\n",
    "            return X\n",
    "        else:\n",
    "            return self.__transformation(X)\n",
    "        \n",
    "    def __transformation(self,X_in):        \n",
    "        return pd.get_dummies(X_in,drop_first=self.drop_first)\n",
    "    "
   ]
  },
  {
   "cell_type": "code",
   "execution_count": 78,
   "metadata": {},
   "outputs": [],
   "source": [
    "\n",
    "class SalePriceTransformer(BaseEstimator,TransformerMixin):\n",
    "    \n",
    "    def __init__(self,active=True,target_name = 'SalePrice'):\n",
    "        self.target_name = target_name\n",
    "        self.active = active\n",
    "        \n",
    "    def fit(self,y):\n",
    "        self.log_ymin = np.log10(y.min())\n",
    "        self.log_ymax = np.log10(y.max())\n",
    "        return self\n",
    "        \n",
    "    def transform(self,y):\n",
    "        if not self.active:\n",
    "            return y\n",
    "        else:\n",
    "            return self.__transformation(y)\n",
    "        \n",
    "    def __transformation(self,y_in):\n",
    "        y = y_in.copy()\n",
    "        log_y = np.log10(y)\n",
    "        return log_y\n",
    "    \n",
    "    def inverse_transform(self,y):\n",
    "        if not self.active:\n",
    "            return y\n",
    "        else:\n",
    "            return self.__inv_transformation(y)\n",
    "        \n",
    "    def __inv_transformation(self,log_y_in):\n",
    "        \n",
    "        log_y = log_y_in.copy()\n",
    "        \n",
    "        y = 10**(log_y)\n",
    "        \n",
    "        return y.astype(int)\n",
    "        "
   ]
  },
  {
   "cell_type": "markdown",
   "metadata": {},
   "source": [
    "## Preprocessing"
   ]
  },
  {
   "cell_type": "code",
   "execution_count": 50,
   "metadata": {},
   "outputs": [],
   "source": [
    "preproc = Pipeline(steps = [\n",
    "    ('DropMissing',DropMissingDataColumns()),\n",
    "    ('Encoding',Encoder()),\n",
    "    ('Scaler' , MinMaxScaler(copy=True, feature_range=(0, 1))),\n",
    "])"
   ]
  },
  {
   "cell_type": "markdown",
   "metadata": {},
   "source": [
    "## Regressor"
   ]
  },
  {
   "cell_type": "code",
   "execution_count": 51,
   "metadata": {},
   "outputs": [],
   "source": [
    "def regression(Regressor,param_distributions,\n",
    "               n_iter = 50, scoring = 'neg_mean_squared_log_error',\n",
    "               n_splits = 10, seed = 42\n",
    "              ):\n",
    "    \n",
    "    \n",
    "    global X,y\n",
    "    reset_datasets()\n",
    "    preproc.fit(X,y)\n",
    "    X = preproc.transform(X)\n",
    "    X_trn_pp = X[:train_size]\n",
    "    X_tst_pp = X[train_size:full_size]\n",
    "\n",
    "    search_cv = RandomizedSearchCV(\n",
    "         Regressor, \n",
    "         param_distributions,\n",
    "         n_iter = n_iter,\n",
    "         scoring = scoring,\n",
    "         cv = KFold(n_splits = n_splits, shuffle = True,random_state = seed))\n",
    "    \n",
    "    search_cv.fit(X_trn_pp, y_trn)\n",
    "    results = pd.DataFrame(search_cv.cv_results_).sort_values('rank_test_score')[scv_cols]\n",
    "    \n",
    "    estimator = search_cv.best_estimator_\n",
    "    estimator.fit(X_trn_pp,y_trn)\n",
    "    \n",
    "    y_pred = estimator.predict(X_trn_pp)\n",
    "    print('RMSLE_trn = %.4f' % mean_squared_log_error(y_trn,y_pred)**0.5)\n",
    "    \n",
    "    y_pred = estimator.predict(X_tst_pp)\n",
    "    y_tst_true = df_tst_true['SalePrice']\n",
    "    print('RMSLE_tst = %.4f' % mean_squared_log_error(y_tst_true,y_pred)**0.5)\n",
    "    \n",
    "    return estimator\n",
    "\n",
    "    # pass_id = test['Id']\n",
    "    # sub = pd.Series(y_pred,index=pass_id,name='SalePrice')\n",
    "    # sub.to_csv('data/model_3.csv',header=True)"
   ]
  },
  {
   "cell_type": "markdown",
   "metadata": {},
   "source": [
    "## Ridge"
   ]
  },
  {
   "cell_type": "code",
   "execution_count": 54,
   "metadata": {},
   "outputs": [
    {
     "name": "stdout",
     "output_type": "stream",
     "text": [
      "RMSLE_trn = 0.1437\n",
      "RMSLE_tst = 0.1615\n"
     ]
    },
    {
     "data": {
      "text/plain": [
       "Ridge(alpha=3.9001597060028, copy_X=True, fit_intercept=True, max_iter=None,\n",
       "      normalize=False, random_state=42, solver='svd',\n",
       "      tol=0.0001414378977583746)"
      ]
     },
     "execution_count": 54,
     "metadata": {},
     "output_type": "execute_result"
    }
   ],
   "source": [
    "Regressor = Ridge(random_state=42)\n",
    "hiper_par = {\n",
    "        'alpha' : 10**uniform(-1,1,200),\n",
    "        'solver': ('auto', 'svd', 'cholesky', 'lsqr', 'sparse_cg', 'sag', 'saga'),\n",
    "        'tol' : 10**uniform(-5,-1,200),}\n",
    "\n",
    "regression(Regressor,hiper_par,n_iter = 10,n_splits = 3,scoring = 'r2')"
   ]
  },
  {
   "cell_type": "markdown",
   "metadata": {},
   "source": [
    "## Lasso"
   ]
  },
  {
   "cell_type": "code",
   "execution_count": 55,
   "metadata": {},
   "outputs": [
    {
     "name": "stdout",
     "output_type": "stream",
     "text": [
      "RMSLE_trn = 0.1400\n",
      "RMSLE_tst = 0.1666\n"
     ]
    },
    {
     "data": {
      "text/plain": [
       "Lasso(alpha=9.041592418522226, copy_X=True, fit_intercept=True, max_iter=1000,\n",
       "      normalize=False, positive=False, precompute=False, random_state=42,\n",
       "      selection='cyclic', tol=6.912984167100437e-05, warm_start=False)"
      ]
     },
     "execution_count": 55,
     "metadata": {},
     "output_type": "execute_result"
    }
   ],
   "source": [
    "Regressor = Lasso(random_state=42)\n",
    "hiper_par = {\n",
    "      'alpha' : 10**uniform(-1,1,200),\n",
    "      'tol' : 10**uniform(-6,-2,200),\n",
    "}\n",
    "\n",
    "regression(Regressor,hiper_par,n_iter = 10,n_splits = 3,scoring = 'r2')"
   ]
  },
  {
   "cell_type": "code",
   "execution_count": 71,
   "metadata": {},
   "outputs": [
    {
     "name": "stdout",
     "output_type": "stream",
     "text": [
      "RMSLE_trn = 0.1430\n",
      "RMSLE_tst = 0.1664\n"
     ]
    },
    {
     "data": {
      "text/plain": [
       "BayesianRidge(alpha_1=1.5854213530455765e-06, alpha_2=4.172431011758788e-05,\n",
       "              alpha_init=None, compute_score=False, copy_X=True,\n",
       "              fit_intercept=True, lambda_1=5.9609852896281444e-05,\n",
       "              lambda_2=2.2098278738476305e-05, lambda_init=None, n_iter=196,\n",
       "              normalize=False, tol=0.0004611148485560566, verbose=False)"
      ]
     },
     "execution_count": 71,
     "metadata": {},
     "output_type": "execute_result"
    }
   ],
   "source": [
    "from sklearn.linear_model import BayesianRidge\n",
    "Regressor = BayesianRidge()\n",
    "hiper_par = {\n",
    "    'n_iter' : [np.random.randint(100,500) for i in range(200)],\n",
    "    'tol' :  10**uniform(-6,-2,200),\n",
    "    'alpha_1' : 10**uniform(-8,-4,200),\n",
    "    'alpha_2' : 10**uniform(-8,-4,200),\n",
    "    'lambda_1' : 10**uniform(-8,-4,200),\n",
    "    'lambda_2' : 10**uniform(-8,-4,200),\n",
    "}\n",
    "\n",
    "regression(Regressor,hiper_par,n_iter = 50,n_splits = 10,scoring = 'r2')"
   ]
  },
  {
   "cell_type": "markdown",
   "metadata": {},
   "source": [
    "# Advanced Approaches"
   ]
  },
  {
   "cell_type": "code",
   "execution_count": 103,
   "metadata": {},
   "outputs": [],
   "source": [
    "class FeatureSelector(BaseEstimator,TransformerMixin):\n",
    "    \n",
    "    def __init__(self,features,active = True):\n",
    "        self.features = features\n",
    "        self.active = active\n",
    "        \n",
    "    def fit(self,X,y=None):\n",
    "        return self\n",
    "        \n",
    "    def transform(self,X):\n",
    "        if not self.active:\n",
    "            return X\n",
    "        else:\n",
    "            self.X = X.copy() \n",
    "            return self.X[self.features]"
   ]
  },
  {
   "cell_type": "code",
   "execution_count": 316,
   "metadata": {},
   "outputs": [
    {
     "data": {
      "text/html": [
       "<div>\n",
       "<style scoped>\n",
       "    .dataframe tbody tr th:only-of-type {\n",
       "        vertical-align: middle;\n",
       "    }\n",
       "\n",
       "    .dataframe tbody tr th {\n",
       "        vertical-align: top;\n",
       "    }\n",
       "\n",
       "    .dataframe thead th {\n",
       "        text-align: right;\n",
       "    }\n",
       "</style>\n",
       "<table border=\"1\" class=\"dataframe\">\n",
       "  <thead>\n",
       "    <tr style=\"text-align: right;\">\n",
       "      <th></th>\n",
       "      <th>params</th>\n",
       "      <th>mean_test_score</th>\n",
       "      <th>std_test_score</th>\n",
       "    </tr>\n",
       "  </thead>\n",
       "  <tbody>\n",
       "    <tr>\n",
       "      <th>6</th>\n",
       "      <td>{'tol': 5.529935447491655e-05, 'solver': 'saga...</td>\n",
       "      <td>0.796238</td>\n",
       "      <td>0.044488</td>\n",
       "    </tr>\n",
       "    <tr>\n",
       "      <th>4</th>\n",
       "      <td>{'tol': 0.0003934577567534037, 'solver': 'spar...</td>\n",
       "      <td>0.794357</td>\n",
       "      <td>0.047043</td>\n",
       "    </tr>\n",
       "    <tr>\n",
       "      <th>1</th>\n",
       "      <td>{'tol': 0.000426102439973124, 'solver': 'saga'...</td>\n",
       "      <td>0.786563</td>\n",
       "      <td>0.054908</td>\n",
       "    </tr>\n",
       "  </tbody>\n",
       "</table>\n",
       "</div>"
      ],
      "text/plain": [
       "                                              params  mean_test_score  \\\n",
       "6  {'tol': 5.529935447491655e-05, 'solver': 'saga...         0.796238   \n",
       "4  {'tol': 0.0003934577567534037, 'solver': 'spar...         0.794357   \n",
       "1  {'tol': 0.000426102439973124, 'solver': 'saga'...         0.786563   \n",
       "\n",
       "   std_test_score  \n",
       "6        0.044488  \n",
       "4        0.047043  \n",
       "1        0.054908  "
      ]
     },
     "execution_count": 316,
     "metadata": {},
     "output_type": "execute_result"
    }
   ],
   "source": [
    "from sklearn.preprocessing import PolynomialFeatures\n",
    "\n",
    "raw_proc = Pipeline(steps = [\n",
    "    ('DropMissing',DropMissingDataColumns()),\n",
    "    ('Encoding',Encoder()),\n",
    "])\n",
    "\n",
    "reset_datasets()\n",
    "raw_proc.fit(X,y)\n",
    "y_transf = SalePriceTransformer().fit(y_trn)\n",
    "\n",
    "X_trn = raw_proc.transform(X_trn)\n",
    "X_tst = raw_proc.transform(X_tst)\n",
    "y_trn = y_transf.transform(y_trn)\n",
    "\n",
    "\n",
    "df_corr = pd.concat([X_trn,y_trn],1).corr().abs().sort_values(by= 'SalePrice',ascending=False)\n",
    "                                                                                     \n",
    "imp_features = df_corr[df_corr['SalePrice'] > 0.1]['SalePrice'].index.to_list()\n",
    "imp_features.remove('SalePrice')\n",
    "\n",
    "pre_proc = Pipeline(steps = [\n",
    "    ('selec',FeatureSelector(features = imp_features)),\n",
    "    ('poly',PolynomialFeatures(degree=2)),\n",
    "    ('scaler' , MinMaxScaler(copy=True, feature_range=(0, 1))),\n",
    "]).fit(X_trn,y_trn)\n",
    "\n",
    "X_trn = pre_proc.transform(X_trn)\n",
    "# X_tst = pre_proc.transform(X_tst)\n",
    "\n",
    "search_cv = RandomizedSearchCV(\n",
    "     Ridge(random_state=42), \n",
    "     {\n",
    "        'alpha' : 10**uniform(-1,1,200),\n",
    "        'solver': ('auto', 'svd', 'cholesky', 'lsqr', 'sparse_cg', 'sag', 'saga'),\n",
    "        'tol' : 10**uniform(-5,-1,200),\n",
    "     },\n",
    "     n_iter = 10,\n",
    "#      scoring = scoring,\n",
    "     cv = KFold(n_splits = 3, shuffle = True,random_state = 42))\n",
    "\n",
    "search_cv.fit(X_trn, y_trn)\n",
    "results = pd.DataFrame(search_cv.cv_results_).sort_values('rank_test_score')[scv_cols]\n",
    "\n",
    "results.head(3)"
   ]
  },
  {
   "cell_type": "code",
   "execution_count": 168,
   "metadata": {},
   "outputs": [
    {
     "data": {
      "text/plain": [
       "{'tol': 0.02987228447981295, 'solver': 'svd', 'alpha': 0.9519035905671462}"
      ]
     },
     "execution_count": 168,
     "metadata": {},
     "output_type": "execute_result"
    }
   ],
   "source": [
    "results['params'].loc[0]"
   ]
  },
  {
   "cell_type": "markdown",
   "metadata": {},
   "source": [
    "{'tol': 0.00022721392735335817, 'solver': 'lsqr', 'alpha': 3.644681533947642}\n",
    "\n",
    "{'tol': 0.06229453912911778, 'solver': 'saga', 'alpha': 9.40370284016665}"
   ]
  },
  {
   "cell_type": "code",
   "execution_count": 208,
   "metadata": {},
   "outputs": [
    {
     "name": "stdout",
     "output_type": "stream",
     "text": [
      "RMSLE_trn = 0.1657\n"
     ]
    }
   ],
   "source": [
    "estimator = search_cv.best_estimator_\n",
    "estimator.fit(X_trn,y_trn)\n",
    "\n",
    "y_pred_transf = y_transf.inverse_transform(estimator.predict(X_trn))\n",
    "y_trn_transf = y_transf.inverse_transform(y_trn)\n",
    "\n",
    "print('RMSLE_trn = %.4f' % mean_squared_log_error(y_trn_transf,y_pred_transf)**0.5)\n",
    "\n",
    "y_pred_transf = y_transf.inverse_transform(estimator.predict(X_tst))\n",
    "y_tst_true = df_tst_true['SalePrice']\n",
    "\n",
    "# print('RMSLE_tst = %.4f' % mean_squared_log_error(y_tst_true,y_pred_transf)**0.5)"
   ]
  },
  {
   "cell_type": "code",
   "execution_count": 199,
   "metadata": {},
   "outputs": [],
   "source": [
    "y_pred = y_transf.inverse_transform(estimator.predict(X_trn))"
   ]
  },
  {
   "cell_type": "code",
   "execution_count": 212,
   "metadata": {},
   "outputs": [],
   "source": [
    "reset_datasets()\n",
    "raw_proc.fit(X,y)\n",
    "y_transf = SalePriceTransformer().fit(y_trn)\n",
    "\n",
    "X_trn = raw_proc.transform(X_trn)\n",
    "X_tst = raw_proc.transform(X_tst)\n",
    "y_trn = y_transf.transform(y_trn)"
   ]
  },
  {
   "cell_type": "markdown",
   "metadata": {},
   "source": [
    "## Predictions"
   ]
  },
  {
   "cell_type": "code",
   "execution_count": 491,
   "metadata": {},
   "outputs": [
    {
     "data": {
      "text/html": [
       "<div>\n",
       "<style scoped>\n",
       "    .dataframe tbody tr th:only-of-type {\n",
       "        vertical-align: middle;\n",
       "    }\n",
       "\n",
       "    .dataframe tbody tr th {\n",
       "        vertical-align: top;\n",
       "    }\n",
       "\n",
       "    .dataframe thead th {\n",
       "        text-align: right;\n",
       "    }\n",
       "</style>\n",
       "<table border=\"1\" class=\"dataframe\">\n",
       "  <thead>\n",
       "    <tr style=\"text-align: right;\">\n",
       "      <th></th>\n",
       "      <th>params</th>\n",
       "      <th>mean_test_score</th>\n",
       "      <th>std_test_score</th>\n",
       "    </tr>\n",
       "  </thead>\n",
       "  <tbody>\n",
       "    <tr>\n",
       "      <th>0</th>\n",
       "      <td>{'tol': 0.004545717187190953, 'solver': 'auto'...</td>\n",
       "      <td>0.855516</td>\n",
       "      <td>0.028050</td>\n",
       "    </tr>\n",
       "    <tr>\n",
       "      <th>28</th>\n",
       "      <td>{'tol': 0.000524983644840292, 'solver': 'sag',...</td>\n",
       "      <td>0.855472</td>\n",
       "      <td>0.028838</td>\n",
       "    </tr>\n",
       "    <tr>\n",
       "      <th>5</th>\n",
       "      <td>{'tol': 0.007028363209317161, 'solver': 'saga'...</td>\n",
       "      <td>0.855383</td>\n",
       "      <td>0.028805</td>\n",
       "    </tr>\n",
       "  </tbody>\n",
       "</table>\n",
       "</div>"
      ],
      "text/plain": [
       "                                               params  mean_test_score  \\\n",
       "0   {'tol': 0.004545717187190953, 'solver': 'auto'...         0.855516   \n",
       "28  {'tol': 0.000524983644840292, 'solver': 'sag',...         0.855472   \n",
       "5   {'tol': 0.007028363209317161, 'solver': 'saga'...         0.855383   \n",
       "\n",
       "    std_test_score  \n",
       "0         0.028050  \n",
       "28        0.028838  \n",
       "5         0.028805  "
      ]
     },
     "execution_count": 491,
     "metadata": {},
     "output_type": "execute_result"
    }
   ],
   "source": [
    "reset_datasets()\n",
    "raw_proc = Pipeline(steps = [\n",
    "    ('DropMissing',DropMissingDataColumns()),\n",
    "    ('Encoding',Encoder(drop_first=True)),\n",
    "])\n",
    "\n",
    "raw_proc.fit(X_trn,y_trn)\n",
    "\n",
    "y_transf = SalePriceTransformer().fit(y_trn)\n",
    "\n",
    "X = raw_proc.transform(X)\n",
    "X_trn_pp = X.iloc[:train_size]\n",
    "X_tst_pp = X.iloc[train_size:full_size]\n",
    "y_trn = y_transf.transform(y_trn)\n",
    "\n",
    "\n",
    "df_corr = pd.concat(\n",
    "    [X_trn_pp.reset_index(drop=True),y_trn],\n",
    "    axis = 1).corr().abs().sort_values(by= 'SalePrice',ascending=False)                                                                      \n",
    "imp_features = df_corr[df_corr['SalePrice'] > 0.06]['SalePrice'].index.to_list()\n",
    "imp_features.remove('SalePrice')\n",
    "\n",
    "pre_proc = Pipeline(steps = [\n",
    "    ('selec',FeatureSelector(features = imp_features)),\n",
    "    ('poly',PolynomialFeatures(degree=1)),\n",
    "#     ('scaler' , MinMaxScaler(copy=True, feature_range=(0, 1))),\n",
    "]).fit(X_trn_pp,y_trn)\n",
    "\n",
    "X_trn = pre_proc.transform(X_trn_pp)\n",
    "X_tst = pre_proc.transform(X_tst_pp)\n",
    "\n",
    "search_cv = RandomizedSearchCV(\n",
    "     Ridge(random_state=42), \n",
    "     {\n",
    "        'alpha' : 10**uniform(-1,1,200),\n",
    "        'solver': ('auto', 'svd', 'cholesky', 'lsqr', 'sparse_cg', 'sag', 'saga'),\n",
    "        'tol' : 10**uniform(-5,-1,200),\n",
    "        'normalize': [True,False],\n",
    "        'max_iter' : [np.random.randint(10,100) for i in range(200)],\n",
    "     },\n",
    "     n_iter = 50,\n",
    "     cv = KFold(n_splits = 3, shuffle = True,random_state = 42))\n",
    "\n",
    "search_cv.fit(X_trn, y_trn)\n",
    "results = pd.DataFrame(search_cv.cv_results_).sort_values('rank_test_score')[scv_cols]\n",
    "\n",
    "\n",
    "results.head(3)"
   ]
  },
  {
   "cell_type": "code",
   "execution_count": 386,
   "metadata": {},
   "outputs": [
    {
     "name": "stdout",
     "output_type": "stream",
     "text": [
      "RMSLE_trn = 0.1357\n",
      "RMSLE_tst = 0.1465\n"
     ]
    }
   ],
   "source": [
    "estimator = search_cv.best_estimator_\n",
    "estimator.fit(X_trn,y_trn)\n",
    "\n",
    "y_pred_transf = y_transf.inverse_transform(estimator.predict(X_trn))\n",
    "y_trn_transf = y_transf.inverse_transform(y_trn)\n",
    "print('RMSLE_trn = %.4f' % mean_squared_log_error(y_trn_transf,y_pred_transf)**0.5)\n",
    "\n",
    "y_pred_transf = y_transf.inverse_transform(estimator.predict(X_tst))\n",
    "y_tst_true = df_tst_true['SalePrice']\n",
    "print('RMSLE_tst = %.4f' % mean_squared_log_error(y_tst_true,y_pred_transf)**0.5)\n",
    "\n",
    "\n",
    "pass_id = test['Id']\n",
    "sub = pd.Series(y_pred,index=pass_id,name='SalePrice')\n",
    "sub.to_csv('data/model_4.csv',header=True)"
   ]
  },
  {
   "cell_type": "code",
   "execution_count": 495,
   "metadata": {},
   "outputs": [],
   "source": [
    "Delta = y_tst_true - y_pred_transf"
   ]
  },
  {
   "cell_type": "markdown",
   "metadata": {},
   "source": [
    "## Procurando por Padrões "
   ]
  },
  {
   "cell_type": "code",
   "execution_count": 419,
   "metadata": {},
   "outputs": [],
   "source": [
    "reset_datasets()\n",
    "raw_proc = Pipeline(steps = [\n",
    "    ('DropMissing',DropMissingDataColumns()),\n",
    "    ('Encoding',Encoder(drop_first=True)),\n",
    "])\n",
    "\n",
    "raw_proc.fit(X_trn,y_trn)\n",
    "\n",
    "y_transf = SalePriceTransformer().fit(y_trn)\n",
    "\n",
    "X = raw_proc.transform(X)\n",
    "X_trn_pp = X.iloc[:train_size]\n",
    "X_tst_pp = X.iloc[train_size:full_size]\n",
    "y_trn = y_transf.transform(y_trn)\n",
    "\n",
    "df_corr = pd.concat(\n",
    "    [X_trn_pp.reset_index(drop=True),y_trn],\n",
    "    axis = 1).corr().abs().sort_values(by= 'SalePrice',ascending=False)                                                                      \n",
    "imp_features = df_corr[df_corr['SalePrice'] > 0.3]['SalePrice'].index.to_list()\n",
    "# imp_features.remove('SalePrice')\n",
    "\n",
    "df_plot = pd.concat(\n",
    "    [X_trn_pp.reset_index(drop=True),y_trn],\n",
    "    axis = 1)[imp_features]"
   ]
  },
  {
   "cell_type": "code",
   "execution_count": 479,
   "metadata": {},
   "outputs": [
    {
     "data": {
      "text/plain": [
       "<matplotlib.collections.PathCollection at 0x7fead69fc2d0>"
      ]
     },
     "execution_count": 479,
     "metadata": {},
     "output_type": "execute_result"
    },
    {
     "data": {
      "image/png": "[encoded data removed]",
      "text/plain": [
       "<Figure size 432x288 with 1 Axes>"
      ]
     },
     "metadata": {},
     "output_type": "display_data"
    }
   ],
   "source": [
    "plt.scatter(df_plot['OverallQual'], df_plot['SalePrice'],  c=\"g\",  s=14,   label=\"Luck\")"
   ]
  },
  {
   "cell_type": "code",
   "execution_count": 490,
   "metadata": {},
   "outputs": [
    {
     "data": {
      "text/plain": [
       "<matplotlib.collections.PathCollection at 0x7fead6b432d0>"
      ]
     },
     "execution_count": 490,
     "metadata": {},
     "output_type": "execute_result"
    },
    {
     "data": {
      "image/png": "[encoded data removed]",
      "text/plain": [
       "<Figure size 432x288 with 1 Axes>"
      ]
     },
     "metadata": {},
     "output_type": "display_data"
    }
   ],
   "source": [
    "plt.scatter(np.log1p(df_plot['GrLivArea']/df_plot['GrLivArea'].mean()), df_plot['SalePrice'],  c=\"g\",  s=14,   label=\"Luck\")"
   ]
  },
  {
   "cell_type": "code",
   "execution_count": 430,
   "metadata": {},
   "outputs": [
    {
     "data": {
      "text/plain": [
       "<matplotlib.collections.PathCollection at 0x7feae0849a50>"
      ]
     },
     "execution_count": 430,
     "metadata": {},
     "output_type": "execute_result"
    },
    {
     "data": {
      "image/png": "[encoded data removed]",
      "text/plain": [
       "<Figure size 432x288 with 1 Axes>"
      ]
     },
     "metadata": {},
     "output_type": "display_data"
    }
   ],
   "source": [
    "plt.scatter(np.log(df_plot['1stFlrSF']), df_plot['SalePrice'],  c=\"g\",  s=14,   label=\"Luck\")"
   ]
  },
  {
   "cell_type": "code",
   "execution_count": 457,
   "metadata": {},
   "outputs": [
    {
     "data": {
      "text/plain": [
       "<matplotlib.collections.PathCollection at 0x7fead71c2190>"
      ]
     },
     "execution_count": 457,
     "metadata": {},
     "output_type": "execute_result"
    },
    {
     "data": {
      "image/png": "[encoded data removed]",
      "text/plain": [
       "<Figure size 432x288 with 1 Axes>"
      ]
     },
     "metadata": {},
     "output_type": "display_data"
    }
   ],
   "source": [
    "plt.scatter((df_plot['YearBuilt']/df_plot['YearBuilt'].mean())**40, df_plot['SalePrice'],  c=\"g\",  s=14,   label=\"Luck\")"
   ]
  },
  {
   "cell_type": "code",
   "execution_count": 458,
   "metadata": {},
   "outputs": [
    {
     "data": {
      "text/plain": [
       "<matplotlib.collections.PathCollection at 0x7fead70f8210>"
      ]
     },
     "execution_count": 458,
     "metadata": {},
     "output_type": "execute_result"
    },
    {
     "data": {
      "image/png": "[encoded data removed]",
      "text/plain": [
       "<Figure size 432x288 with 1 Axes>"
      ]
     },
     "metadata": {},
     "output_type": "display_data"
    }
   ],
   "source": [
    "plt.scatter(np.log(df_plot['YearRemodAdd']), df_plot['SalePrice'],  c=\"g\",  s=14,   label=\"Luck\")"
   ]
  },
  {
   "cell_type": "markdown",
   "metadata": {},
   "source": [
    "# teste"
   ]
  },
  {
   "cell_type": "code",
   "execution_count": 461,
   "metadata": {},
   "outputs": [
    {
     "data": {
      "text/plain": [
       "Index(['SalePrice', 'OverallQual', 'GrLivArea', '1stFlrSF', 'ExterQual_TA',\n",
       "       'FullBath', 'YearBuilt', 'YearRemodAdd', 'TotRmsAbvGrd',\n",
       "       'Foundation_PConc', 'ExterQual_Gd', 'Fireplaces',\n",
       "       'Neighborhood_NridgHt', 'CentralAir_Y', 'Foundation_CBlock',\n",
       "       'HeatingQC_TA', 'WoodDeckSF', 'SaleCondition_Partial', 'OpenPorchSF',\n",
       "       '2ndFlrSF', 'HalfBath'],\n",
       "      dtype='object')"
      ]
     },
     "execution_count": 461,
     "metadata": {},
     "output_type": "execute_result"
    }
   ],
   "source": [
    "reset_datasets()\n",
    "raw_proc = Pipeline(steps = [\n",
    "    ('DropMissing',DropMissingDataColumns()),\n",
    "    ('Encoding',Encoder(drop_first=True)),\n",
    "])\n",
    "\n",
    "raw_proc.fit(X_trn,y_trn)\n",
    "\n",
    "y_transf = SalePriceTransformer().fit(y_trn)\n",
    "\n",
    "X = raw_proc.transform(X)\n",
    "X_trn_pp = X.iloc[:train_size]\n",
    "X_tst_pp = X.iloc[train_size:full_size]\n",
    "y_trn = y_transf.transform(y_trn)\n",
    "\n",
    "\n",
    "df_corr = pd.concat(\n",
    "    [X_trn_pp.reset_index(drop=True),y_trn],\n",
    "    axis = 1).corr().abs().sort_values(by= 'SalePrice',ascending=False)                                                                      \n",
    "imp_features = df_corr[df_corr['SalePrice'] > 0.06]['SalePrice'].index.to_list()\n",
    "imp_features.remove('SalePrice')\n",
    "\n",
    "pre_proc = Pipeline(steps = [\n",
    "    ('selec',FeatureSelector(features = imp_features)),\n",
    "    ('poly',PolynomialFeatures(degree=1)),\n",
    "#     ('scaler' , MinMaxScaler(copy=True, feature_range=(0, 1))),\n",
    "]).fit(X_trn_pp,y_trn)\n",
    "\n",
    "X_trn = pre_proc.transform(X_trn_pp)\n",
    "X_tst = pre_proc.transform(X_tst_pp)\n",
    "\n",
    "search_cv = RandomizedSearchCV(\n",
    "     Ridge(random_state=42), \n",
    "     {\n",
    "        'alpha' : 10**uniform(-1,1,200),\n",
    "        'solver': ('auto', 'svd', 'cholesky', 'lsqr', 'sparse_cg', 'sag', 'saga'),\n",
    "        'tol' : 10**uniform(-5,-1,200),\n",
    "        'normalize': [True,False],\n",
    "        'max_iter' : [np.random.randint(10,100) for i in range(200)],\n",
    "     },\n",
    "     n_iter = 50,\n",
    "     cv = KFold(n_splits = 3, shuffle = True,random_state = 42))\n",
    "\n",
    "search_cv.fit(X_trn, y_trn)\n",
    "results = pd.DataFrame(search_cv.cv_results_).sort_values('rank_test_score')[scv_cols]\n",
    "\n",
    "\n",
    "results.head(3)"
   ]
  }
 ],
 "metadata": {
  "kernelspec": {
   "display_name": "Python 3",
   "language": "python",
   "name": "python3"
  },
  "language_info": {
   "codemirror_mode": {
    "name": "ipython",
    "version": 3
   },
   "file_extension": ".py",
   "mimetype": "text/x-python",
   "name": "python",
   "nbconvert_exporter": "python",
   "pygments_lexer": "ipython3",
   "version": "3.7.6"
  }
 },
 "nbformat": 4,
 "nbformat_minor": 4
}
